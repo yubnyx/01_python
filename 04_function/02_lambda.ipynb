{
 "cells": [
  {
   "cell_type": "markdown",
   "metadata": {},
   "source": [
    "---\n",
    "### 람다"
   ]
  },
  {
   "cell_type": "markdown",
   "metadata": {},
   "source": [
    "변수명 = lambda(매개변수):(함수 실행 내용)"
   ]
  },
  {
   "cell_type": "code",
   "execution_count": 1,
   "metadata": {},
   "outputs": [
    {
     "name": "stdout",
     "output_type": "stream",
     "text": [
      "10\n"
     ]
    }
   ],
   "source": [
    "add =  lambda a , b : a + b\n",
    "\n",
    "print(add(3,7))"
   ]
  },
  {
   "cell_type": "code",
   "execution_count": 5,
   "metadata": {},
   "outputs": [
    {
     "name": "stdout",
     "output_type": "stream",
     "text": [
      "15\n",
      "50\n"
     ]
    },
    {
     "data": {
      "text/plain": [
       "'\\ndef func1(x,y=10):\\n    return x+y\\n'"
      ]
     },
     "execution_count": 5,
     "metadata": {},
     "output_type": "execute_result"
    }
   ],
   "source": [
    "func1 = lambda x, y=10 : x + y\n",
    "\n",
    "print(func1(5))\n",
    "print(func1(20,30))\n",
    "\n",
    "'''\n",
    "def func1(x,y=10):\n",
    "    return x+y\n",
    "'''\n",
    " #람다는 1회성 함수로 유용함 \n"
   ]
  },
  {
   "cell_type": "code",
   "execution_count": 6,
   "metadata": {},
   "outputs": [
    {
     "name": "stdout",
     "output_type": "stream",
     "text": [
      "15\n"
     ]
    }
   ],
   "source": [
    "fun2 = lambda *args :sum(args)\n",
    "\n",
    "print(fun2(1,2,3,4,5))"
   ]
  },
  {
   "cell_type": "code",
   "execution_count": 10,
   "metadata": {},
   "outputs": [
    {
     "name": "stdout",
     "output_type": "stream",
     "text": [
      "[1, 4, 9, 16, 25]\n"
     ]
    }
   ],
   "source": [
    "#map (함수,객체)\n",
    "\n",
    "num = [1,2,3,4,5]\n",
    "squars = map(lambda x : x**2, num)\n",
    "\n",
    "print(list(squars))"
   ]
  },
  {
   "cell_type": "code",
   "execution_count": 11,
   "metadata": {},
   "outputs": [
    {
     "name": "stdout",
     "output_type": "stream",
     "text": [
      "[70, 90, 110]\n"
     ]
    }
   ],
   "source": [
    "num1 = [10,20,30]\n",
    "num2 = [60,70,80]\n",
    "\n",
    "new_nums = list(map(lambda x,y : x + y , num1 , num2))\n",
    "print(new_nums)"
   ]
  },
  {
   "cell_type": "code",
   "execution_count": 13,
   "metadata": {},
   "outputs": [
    {
     "name": "stdout",
     "output_type": "stream",
     "text": [
      "[1023, 999909]\n"
     ]
    }
   ],
   "source": [
    "#filter(함수, 객체)\n",
    "\n",
    "num3 = [1, 34, 1023, 999909]\n",
    "num4 = list(filter(lambda n : n > 100 , num3))\n",
    "\n",
    "print(num4)"
   ]
  },
  {
   "cell_type": "code",
   "execution_count": null,
   "metadata": {},
   "outputs": [],
   "source": []
  }
 ],
 "metadata": {
  "kernelspec": {
   "display_name": "pystudy_env",
   "language": "python",
   "name": "python3"
  },
  "language_info": {
   "codemirror_mode": {
    "name": "ipython",
    "version": 3
   },
   "file_extension": ".py",
   "mimetype": "text/x-python",
   "name": "python",
   "nbconvert_exporter": "python",
   "pygments_lexer": "ipython3",
   "version": "3.12.9"
  }
 },
 "nbformat": 4,
 "nbformat_minor": 2
}
