{
 "cells": [
  {
   "cell_type": "markdown",
   "metadata": {},
   "source": [
    "### 함수"
   ]
  },
  {
   "cell_type": "code",
   "execution_count": 2,
   "metadata": {},
   "outputs": [],
   "source": [
    "def greeting(name,greet = \"처음 뵙겠습니다.\"):\n",
    "    print(name, \":\" , greet)"
   ]
  },
  {
   "cell_type": "code",
   "execution_count": 3,
   "metadata": {},
   "outputs": [
    {
     "name": "stdout",
     "output_type": "stream",
     "text": [
      "다람쥐 : 반갑습니다!!!\n"
     ]
    }
   ],
   "source": [
    "greeting(\"다람쥐\",\"반갑습니다!!!\")"
   ]
  },
  {
   "cell_type": "code",
   "execution_count": 4,
   "metadata": {},
   "outputs": [],
   "source": [
    "def print_greeting():\n",
    "    print(\"좋은 아침입니다! 수요일도 화이팅!!!\")"
   ]
  },
  {
   "cell_type": "code",
   "execution_count": 5,
   "metadata": {},
   "outputs": [
    {
     "name": "stdout",
     "output_type": "stream",
     "text": [
      "좋은 아침입니다! 수요일도 화이팅!!!\n"
     ]
    }
   ],
   "source": [
    "    print_greeting()"
   ]
  },
  {
   "cell_type": "code",
   "execution_count": 17,
   "metadata": {},
   "outputs": [],
   "source": [
    "#파라미터 x , return o -> \"좋은 아침입니다!! 수요일도 화이팅! \" 반환\n",
    "\n",
    "def return_greeting ():\n",
    "    return(\"좋은 아침입니다! 수요일도 화이팅!!!\")\n",
    "    "
   ]
  },
  {
   "cell_type": "code",
   "execution_count": 18,
   "metadata": {},
   "outputs": [
    {
     "data": {
      "text/plain": [
       "'좋은 아침입니다! 수요일도 화이팅!!!'"
      ]
     },
     "execution_count": 18,
     "metadata": {},
     "output_type": "execute_result"
    }
   ],
   "source": [
    "return_greeting()\n",
    "\n",
    "#greeting = return_greeting\n",
    "#print(greeting) 하는 방법도 있음"
   ]
  },
  {
   "cell_type": "code",
   "execution_count": null,
   "metadata": {},
   "outputs": [],
   "source": [
    "#파라미터 o , return o -> \"좋은 아침입니다!! 수요일도 화이팅! \" 출력, 파라미터로 인사할 사람 이름\n",
    "\n",
    "def return_greeting(nick_name):\n",
    "    return f'{nick_name} 님, 좋은 아침입니다.'"
   ]
  },
  {
   "cell_type": "code",
   "execution_count": 25,
   "metadata": {},
   "outputs": [
    {
     "name": "stdout",
     "output_type": "stream",
     "text": [
      "오므라이스 님, 좋은 아침입니다.\n"
     ]
    }
   ],
   "source": [
    "print(return_greeting(\"오므라이스\"))"
   ]
  },
  {
   "cell_type": "code",
   "execution_count": 32,
   "metadata": {},
   "outputs": [
    {
     "name": "stdout",
     "output_type": "stream",
     "text": [
      "유빈님 좋은 1시입니다.\n",
      "유빈님 좋은 점심입니다.\n",
      "똥님 좋은 저녁입니다.\n",
      "사탕님 좋은 새벽입니다.\n"
     ]
    }
   ],
   "source": [
    "def ddong (name2, time):\n",
    "    return f'{name2}님 좋은 {time}입니다.'\n",
    "\n",
    "print(ddong('유빈','1시'))\n",
    "\n",
    "print(ddong(name2=\"유빈\",time=\"점심\"))\n",
    "\n",
    "print(ddong(time='저녁',name2='똥'))\n",
    "\n",
    "print(ddong('사탕','새벽'))"
   ]
  },
  {
   "cell_type": "code",
   "execution_count": null,
   "metadata": {},
   "outputs": [
    {
     "name": "stdout",
     "output_type": "stream",
     "text": [
      "유빈님 좋은 아침입니다. 오늘도 화이팅!\n"
     ]
    }
   ],
   "source": [
    "#파라미터 o, return x -> 파라미터로 인사할 사람 이름\n",
    "## \"(이름)님, 좋은 아침입니다! 수요일도 화이팅!!\" 반환\n",
    "\n",
    "def greeting(name):\n",
    "    print(f'{name}님 좋은 아침입니다. 오늘도 화이팅!')\n",
    "#def greeting(name=\"유빈\"):\n",
    "#->greeting()\n",
    "\n",
    "greeting(\"유빈\")\n",
    "\n",
    "#name1=\"유빈\" , greeting(name1)\n",
    "\n"
   ]
  },
  {
   "cell_type": "markdown",
   "metadata": {},
   "source": [
    "---\n",
    "### 패키징과 언패키징"
   ]
  },
  {
   "cell_type": "code",
   "execution_count": null,
   "metadata": {},
   "outputs": [],
   "source": [
    "def call_animals(*animal_args): #공간 대신 패키징 *\n",
    "    for animal_name in animal_args:\n",
    "        print(animal_name)\n"
   ]
  },
  {
   "cell_type": "code",
   "execution_count": 35,
   "metadata": {},
   "outputs": [
    {
     "name": "stdout",
     "output_type": "stream",
     "text": [
      "토끼\n",
      "판다\n",
      "코알라\n",
      "쿼카\n",
      "양\n",
      "늑대\n"
     ]
    }
   ],
   "source": [
    "call_animals('토끼','판다','코알라','쿼카','양','늑대') #값 7"
   ]
  },
  {
   "cell_type": "code",
   "execution_count": null,
   "metadata": {},
   "outputs": [],
   "source": [
    "def multi_sum (num1, num2, num3, num4, num5):\n",
    "    return num1 + num2 + num3 + num4 + num5"
   ]
  },
  {
   "cell_type": "code",
   "execution_count": 46,
   "metadata": {},
   "outputs": [
    {
     "name": "stdout",
     "output_type": "stream",
     "text": [
      "2077\n"
     ]
    }
   ],
   "source": [
    "numbers = [2025, 2, 12, 11, 27]\n",
    "print( multi_sum (*numbers))"
   ]
  },
  {
   "cell_type": "code",
   "execution_count": null,
   "metadata": {},
   "outputs": [],
   "source": []
  }
 ],
 "metadata": {
  "kernelspec": {
   "display_name": "pystudy_env",
   "language": "python",
   "name": "python3"
  },
  "language_info": {
   "codemirror_mode": {
    "name": "ipython",
    "version": 3
   },
   "file_extension": ".py",
   "mimetype": "text/x-python",
   "name": "python",
   "nbconvert_exporter": "python",
   "pygments_lexer": "ipython3",
   "version": "3.12.9"
  }
 },
 "nbformat": 4,
 "nbformat_minor": 2
}
