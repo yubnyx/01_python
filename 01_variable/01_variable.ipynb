{
 "cells": [
  {
   "cell_type": "markdown",
   "metadata": {},
   "source": [
    "# 변수(variable)"
   ]
  },
  {
   "cell_type": "code",
   "execution_count": 3,
   "metadata": {},
   "outputs": [],
   "source": [
    "date = 250210\n",
    "name = '전유빈'"
   ]
  },
  {
   "cell_type": "code",
   "execution_count": 4,
   "metadata": {},
   "outputs": [
    {
     "name": "stdout",
     "output_type": "stream",
     "text": [
      "250210\n",
      "전유빈\n"
     ]
    }
   ],
   "source": [
    "print(date)\n",
    "print(name)"
   ]
  },
  {
   "cell_type": "code",
   "execution_count": 8,
   "metadata": {},
   "outputs": [
    {
     "name": "stdout",
     "output_type": "stream",
     "text": [
      "200\n"
     ]
    }
   ],
   "source": [
    "m = 100\n",
    "n = m + 10\n",
    "m = 200\n",
    "print(m)"
   ]
  },
  {
   "cell_type": "markdown",
   "metadata": {},
   "source": [
    "### **문제 1**\n",
    "\n",
    "---\n",
    "\n",
    "아래 설명에 맞게 변수를 선언하고 값을 대입하세요\n",
    "1. name 이라는 이름의 변수를 선언하고 당신의 이름을 문자열로 저장하세요.\n",
    "2. age 라는 이름의 변수를 선언하고 당신의 나이를 숫자로 저장하세요"
   ]
  },
  {
   "cell_type": "code",
   "execution_count": 17,
   "metadata": {},
   "outputs": [],
   "source": [
    "name = '전유빈'\n",
    "age = 25"
   ]
  },
  {
   "cell_type": "markdown",
   "metadata": {},
   "source": [
    "### **문제 2**\n",
    "\n",
    "---\n",
    "\n",
    "다음 조건에 맞게 변수를 작성해보세요.\n",
    "\n",
    "1. `height`라는 변수에 **키**를 숫자형으로 저장하세요.\n",
    "2. `dream`이라는 변수에 **당신의 목표**을 문자열로 저장하세요."
   ]
  },
  {
   "cell_type": "code",
   "execution_count": 11,
   "metadata": {},
   "outputs": [],
   "source": [
    "height = 169\n",
    "dream = '배운 것을 온전한 내것으로 만들기'"
   ]
  },
  {
   "cell_type": "markdown",
   "metadata": {},
   "source": [
    "### **문제 4**\n",
    "\n",
    "---\n",
    "\n",
    "변수에 담긴 값을 다른 변수에 대입하는 연습을 해봅시다.\n",
    "\n",
    "1. `city`라는 변수에 **당신이 살고 있는 도시 이름**을 문자열로 저장하세요.\n",
    "2. `my_city`라는 변수에 `city` 변수의 값을 대입하세요.\n",
    "3. 두 변수를 각각 `print()`로 출력해보세요."
   ]
  },
  {
   "cell_type": "code",
   "execution_count": 12,
   "metadata": {},
   "outputs": [
    {
     "name": "stdout",
     "output_type": "stream",
     "text": [
      "경기도\n",
      "경기도\n"
     ]
    }
   ],
   "source": [
    "city = '경기도'\n",
    "my_city = city\n",
    "print(city)\n",
    "print(my_city)"
   ]
  },
  {
   "cell_type": "markdown",
   "metadata": {},
   "source": [
    "### **문제 4**\n",
    "\n",
    "다음과 같은 규칙에 맞는 변수를 작성하세요.\n",
    "\n",
    "---\n",
    "\n",
    "1. **사과의 개수**를 나타내는 변수를 `apple_count`로 선언하고 숫자 `10`을 저장하세요.\n",
    "2. **오렌지의 개수**를 나타내는 변수를 `orange_count`로 선언하고 숫자 `20`을 저장하세요.\n",
    "3. 두 변수를 출력해보세요."
   ]
  },
  {
   "cell_type": "code",
   "execution_count": 14,
   "metadata": {},
   "outputs": [
    {
     "name": "stdout",
     "output_type": "stream",
     "text": [
      "10\n",
      "20\n"
     ]
    }
   ],
   "source": [
    "apple_count = 10\n",
    "orange_count = 20\n",
    "print(apple_count)\n",
    "print(orange_count)"
   ]
  },
  {
   "cell_type": "markdown",
   "metadata": {},
   "source": [
    "### **문제 5**\n",
    "\n",
    "다음과 같은 규칙을 지켜 변수를 작성하세요.\n",
    "\n",
    "1. 변수 이름은 **스네이크 케이스**를 따릅니다.(스네이크 케이스는 소문자 와 _ 를 합친 것)\n",
    "2. `first_name`에 **당신의 이름의 첫 글자**를 문자열로 저장하세요.\n",
    "3. `last_name`에 **당신의 성**을 문자열로 저장하세요.\n",
    "4. `full_name` 변수에 `first_name`과 `last_name`을 이어붙여서 저장하세요.\n",
    "5. `print()`를 사용해 `full_name`을 출력해보세요."
   ]
  },
  {
   "cell_type": "code",
   "execution_count": 16,
   "metadata": {},
   "outputs": [
    {
     "name": "stdout",
     "output_type": "stream",
     "text": [
      "YJun\n"
     ]
    }
   ],
   "source": [
    "first_name = 'Y'\n",
    "last_name =  'Jun'\n",
    "full_name = first_name + last_name\n",
    "print(full_name)"
   ]
  }
 ],
 "metadata": {
  "kernelspec": {
   "display_name": "pystudy_env",
   "language": "python",
   "name": "python3"
  },
  "language_info": {
   "codemirror_mode": {
    "name": "ipython",
    "version": 3
   },
   "file_extension": ".py",
   "mimetype": "text/x-python",
   "name": "python",
   "nbconvert_exporter": "python",
   "pygments_lexer": "ipython3",
   "version": "3.12.9"
  }
 },
 "nbformat": 4,
 "nbformat_minor": 2
}
