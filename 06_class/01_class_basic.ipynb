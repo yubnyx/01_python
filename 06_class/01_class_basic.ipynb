{
 "cells": [
  {
   "cell_type": "markdown",
   "metadata": {},
   "source": [
    "### 클래스"
   ]
  },
  {
   "cell_type": "code",
   "execution_count": 28,
   "metadata": {},
   "outputs": [
    {
     "name": "stdout",
     "output_type": "stream",
     "text": [
      "전유빈은 25살이고, 취미는['만화보기']입니다.\n",
      "김한솔은 26살이고, 취미는['운동']입니다.\n",
      "장민호은 28살이고, 취미는['여행']입니다.\n",
      "오정현은 25살이고, 취미는['드라마 시청']입니다.\n",
      "이혜성은 27살이고, 취미는['영화 시청']입니다.\n",
      "방성일은 29살이고, 취미는['키보드']입니다.\n"
     ]
    }
   ],
   "source": [
    "name = '전유빈'\n",
    "age = 25\n",
    "hobby = ['만화보기']\n",
    "print(f'{name}은 {age}살이고, 취미는{hobby}입니다.')\n",
    "\n",
    "name = '김한솔'\n",
    "age = 26\n",
    "hobby = ['운동']\n",
    "print(f'{name}은 {age}살이고, 취미는{hobby}입니다.')\n",
    "\n",
    "name = '장민호'\n",
    "age = 28\n",
    "hobby = ['여행']\n",
    "print(f'{name}은 {age}살이고, 취미는{hobby}입니다.')\n",
    "\n",
    "name = '오정현'\n",
    "age = 25\n",
    "hobby = ['드라마 시청']\n",
    "print(f'{name}은 {age}살이고, 취미는{hobby}입니다.')\n",
    "\n",
    "name = '이혜성'\n",
    "age = 27\n",
    "hobby = ['영화 시청']\n",
    "print(f'{name}은 {age}살이고, 취미는{hobby}입니다.')\n",
    "\n",
    "name = '방성일'\n",
    "age = 29 \n",
    "hobby = ['키보드']\n",
    "print(f'{name}은 {age}살이고, 취미는{hobby}입니다.')"
   ]
  },
  {
   "cell_type": "code",
   "execution_count": 44,
   "metadata": {},
   "outputs": [
    {
     "ename": "IndentationError",
     "evalue": "unindent does not match any outer indentation level (<string>, line 10)",
     "output_type": "error",
     "traceback": [
      "\u001b[1;36m  File \u001b[1;32m<string>:10\u001b[1;36m\u001b[0m\n\u001b[1;33m    def introduce(self):\u001b[0m\n\u001b[1;37m                        ^\u001b[0m\n\u001b[1;31mIndentationError\u001b[0m\u001b[1;31m:\u001b[0m unindent does not match any outer indentation level\n"
     ]
    }
   ],
   "source": [
    "class Friend :\n",
    "    # def __init__(self, name , age, hobby):\n",
    "        #인스턴스 속성 name ,age, hobby 초기화\n",
    "        # self.name = name\n",
    "        # self.age = age\n",
    "        # self.hobby = hobby\n",
    "        self.hobby = \"독서서\"\n",
    "\n",
    "    \n",
    "    def introduce(self):\n",
    "        #self.name , self.age, self.hobby 출력\n",
    "        print(f'{self.name}은 {self.age}살이고, 취미는 {self.hobby}입니다.')\n",
    "\n",
    "student1 = Friend('전유빈',25,'만화 읽기')\n",
    "student1.introduce()\n",
    "    \n",
    "    \n",
    "\n",
    "        "
   ]
  },
  {
   "cell_type": "code",
   "execution_count": 46,
   "metadata": {},
   "outputs": [
    {
     "name": "stdout",
     "output_type": "stream",
     "text": [
      "전유빈은 25살이고, 취미는 ['게임']입니다.\n",
      "전유빈은 25살이고, 취미는 ['게임', '운동']입니다.\n",
      "김다미은 20살이고, 취미는 ['아타나루']입니다.\n"
     ]
    }
   ],
   "source": [
    "f1 = Friend()\n",
    "f2 = Friend()\n",
    "\n",
    "# f1.introduce()\n",
    "f1.name = '전유빈'\n",
    "f1.age = '25'\n",
    "f1.hobby = ['게임']\n",
    "f1.introduce()\n",
    "f1.hobby.append('운동')\n",
    "f1.introduce()\n",
    "\n",
    "f2.name = '김다미'\n",
    "f2.age = '20'\n",
    "f2.hobby = ['아타나루']\n",
    "f2.introduce()"
   ]
  },
  {
   "cell_type": "code",
   "execution_count": null,
   "metadata": {},
   "outputs": [],
   "source": [
    "class Student: #클래스의 첫글자는 대문자로 작성\n",
    "\n",
    "    # 1. 클래스 속성\n",
    "    dream = \"취업\"\n",
    "\n",
    "    # 2. 생성자\n",
    "\n",
    "    # 3. 메서드\n",
    "    def study(self):\n",
    "        print('오늘도 배고프다.')"
   ]
  },
  {
   "cell_type": "code",
   "execution_count": 8,
   "metadata": {},
   "outputs": [
    {
     "name": "stdout",
     "output_type": "stream",
     "text": [
      "<__main__.Student object at 0x00000246A71E3E30>\n",
      "<__main__.Student object at 0x00000246A71E32C0>\n"
     ]
    }
   ],
   "source": [
    "student = Student() #객체1 생성\n",
    "student_two = Student() #객체2 생성\n",
    "\n",
    "#생성자 호출시마다 메모리에 새로운 인스턴스를 할당하므로 인스턴스의 주소값이 다른 것을 볼 수 있음음\n",
    "print(student)\n",
    "print(student_two)\n",
    "\n"
   ]
  },
  {
   "cell_type": "code",
   "execution_count": 9,
   "metadata": {},
   "outputs": [],
   "source": [
    "class Student:\n",
    "\n",
    "    # 1. 클래스 속성\n",
    "    dream = '취업'\n",
    "\n",
    "    # 2. 생성자\n",
    "    def __init__(self,name,phone):\n",
    "        self.name = name\n",
    "        self.phone = phone\n",
    "\n",
    "\n",
    "\n",
    "    # 3. 매서드\n",
    "    def study(self):\n",
    "        print('오늘도 열심히 공부하는 11기 학생!')"
   ]
  },
  {
   "cell_type": "code",
   "execution_count": 14,
   "metadata": {},
   "outputs": [
    {
     "name": "stdout",
     "output_type": "stream",
     "text": [
      "취업\n",
      "유빈 010-1212-1212\n",
      "오늘도 열심히 공부하는 11기 학생!\n"
     ]
    }
   ],
   "source": [
    "student = Student(\"유빈\",'010-1212-1212')\n",
    "\n",
    "print(student.dream)\n",
    "print(student.name, student.phone)\n",
    "student.study()"
   ]
  },
  {
   "cell_type": "code",
   "execution_count": 18,
   "metadata": {},
   "outputs": [],
   "source": [
    "class Student :\n",
    "    #1.클래스 속성\n",
    "    dream = ['취업']\n",
    "\n",
    "    # 2.생성자\n",
    "    def __init__(self,name,phone):\n",
    "        self.name = name\n",
    "        self.phone = phone\n",
    "\n",
    "\n",
    "    # 3.메서드\n",
    "    def study(self):\n",
    "        print('너무 배고파요.')\n",
    "    \n",
    "    def introduce(self):\n",
    "        print(f'저는 {self.name}이구요. 전화번호는 {self.phone}입니다. 제가 이루고 싶은 목표는 {self.dream}')"
   ]
  },
  {
   "cell_type": "code",
   "execution_count": 23,
   "metadata": {},
   "outputs": [
    {
     "name": "stdout",
     "output_type": "stream",
     "text": [
      "저는 전유빈이구요. 전화번호는 010-1212-1212입니다. 제가 이루고 싶은 목표는 ['취업']\n"
     ]
    }
   ],
   "source": [
    "student1 = Student('전유빈','010-1212-1212')\n",
    "\n",
    "#student2 = Student()\n",
    "\n",
    "student1.introduce()\n",
    "\n",
    "\n"
   ]
  },
  {
   "cell_type": "markdown",
   "metadata": {},
   "source": [
    "### **문제 1: 클래스 속성, 인스턴스 속성 테스트**\n",
    "\n",
    "토끼는 이직 준비를 위해 자기소개서를 작성해야 합니다. `Rabbit`이라는 클래스를 만들어 토끼의 기본 정보를 설정하세요.\n",
    "\n",
    "1. 클래스 속성 `species`를 설정하여 \"토끼\"로 초기화하세요.\n",
    "2. 생성자를 통해 인스턴스 속성 `name`과 `current_job`을 설정하세요.\n",
    "3. 메서드 `introduce`를 만들어 이름과 현재 직업을 소개하는 문자열을 반환하세요.\n",
    "4. 다른 인스턴스를 생성해도 `species`는 공유되지만, `name`과 `current_job`은 서로 독립적임을 확인하세요."
   ]
  },
  {
   "cell_type": "code",
   "execution_count": 58,
   "metadata": {},
   "outputs": [
    {
     "name": "stdout",
     "output_type": "stream",
     "text": [
      "안녕하세요 제 이름은 전유빈이고 현재 직업은 학생입니다.\n",
      "토끼\n",
      "안녕하세요 제 이름은 전유빈이고 현재 직업은 학생입니다.\n",
      "None\n"
     ]
    }
   ],
   "source": [
    "class Rabbit:\n",
    "\n",
    "    species = '토끼'\n",
    "    def __init__(self, name, current_job):\n",
    "        self.name = name\n",
    "        self.current_job = current_job  # 변수명 통일\n",
    "\n",
    "    def introduce(self):  # self 추가\n",
    "        print(f'안녕하세요 제 이름은 {self.name}이고 현재 직업은 {self.current_job}입니다.')\n",
    "\n",
    "# 객체 생성\n",
    "my_self = Rabbit('전유빈', '학생')\n",
    "my_self.introduce()  # 메서드 호출\n",
    "print(my_self.species)\n",
    "print(my_self.introduce())\n"
   ]
  },
  {
   "cell_type": "markdown",
   "metadata": {},
   "source": [
    "### **문제 2: 클래스 속성과 인스턴스 속성의 차이**\n",
    "\n",
    "토끼는 이직 준비를 하며 다양한 직업 스킬을 학습 중입니다. 클래스 속성과 인스턴스 속성의 차이를 확인하세요.\n",
    "\n",
    "1. `Character` 클래스를 생성하세요.\n",
    "2. 클래스 속성 `skills`를 정의하여 빈 리스트로 초기화하세요.\n",
    "3. 생성자에서 인스턴스 속성 `skills`를 별도로 초기화하세요.\n",
    "4. `add_skill` 메서드에서 클래스 속성이 아닌 인스턴스 속성에 스킬을 추가하도록 수정하세요."
   ]
  },
  {
   "cell_type": "code",
   "execution_count": 63,
   "metadata": {},
   "outputs": [],
   "source": [
    "class Character:\n",
    "    # 클래스 속성\n",
    "    skills = []  # 모든 인스턴스가 공유하는 속성 (잘못된 사용 예시)\n",
    "\n",
    "    def __init__(self):\n",
    "        # 인스턴스 속성\n",
    "        self.skills = []  # 각 인스턴스마다 독립적인 속성\n",
    "\n",
    "    def add_skill(self, skill):\n",
    "        self.skills.append(skill)\n",
    "       \n"
   ]
  },
  {
   "cell_type": "code",
   "execution_count": 66,
   "metadata": {},
   "outputs": [
    {
     "name": "stdout",
     "output_type": "stream",
     "text": [
      "[]\n",
      "['llm서비스 개발']\n"
     ]
    }
   ],
   "source": [
    "my_character = Character()\n",
    "print(my_character.skills)\n",
    "my_character.add_skill('llm서비스 개발')\n",
    "print(my_character.skills)"
   ]
  },
  {
   "cell_type": "markdown",
   "metadata": {},
   "source": [
    "### **문제 3: 인스턴스 속성과 클래스 속성의 우선순위**\n",
    "\n",
    "토끼는 이직을 위해 별명을 여러 개 사용합니다. 클래스 속성으로 `nickname`을 설정하지만, 각 인스턴스마다 별명을 변경할 수 있습니다.\n",
    "\n",
    "1. `Character` 클래스에 클래스 속성 `nickname`을 설정하세요.\n",
    "2. 생성자에서 인스턴스 속성 `nickname`을 설정하세요.\n",
    "3. 클래스 속성과 인스턴스 속성이 충돌할 때, 인스턴스 속성이 우선됨을 확인하세요."
   ]
  },
  {
   "cell_type": "code",
   "execution_count": null,
   "metadata": {},
   "outputs": [],
   "source": [
    "\n",
    "class Character:\n",
    "    nickname = '토끼' #클래스 속성\n",
    "    \n",
    "    def __init__ (self, nickname): #인스턴스 속성\n",
    "        self.nickname = nickname"
   ]
  },
  {
   "cell_type": "code",
   "execution_count": 78,
   "metadata": {},
   "outputs": [
    {
     "name": "stdout",
     "output_type": "stream",
     "text": [
      "거북이\n",
      "판다\n",
      "토끼\n",
      "토끼\n"
     ]
    }
   ],
   "source": [
    "rabbit1 = Character(\"거북이\") #객체마다 달라지는 값이 됨\n",
    "rabbit2 = Character(\"판다\")\n",
    "\n",
    "print(rabbit1.nickname)\n",
    "print(rabbit2.nickname)\n",
    "print(rabbit1.__class__.nickname)#클래스 변수에 저장된 닉네임을 출력하겠다\n",
    "print(Character.nickname)"
   ]
  },
  {
   "cell_type": "code",
   "execution_count": 97,
   "metadata": {},
   "outputs": [
    {
     "name": "stdout",
     "output_type": "stream",
     "text": [
      "산골짜기 다람쥐\n",
      "'Character' object has no attribute '__type'\n",
      "전사\n",
      "전사\n",
      "잘못된 캐릭터 타입을 선택하셨습니다.\n"
     ]
    }
   ],
   "source": [
    "class Character:\n",
    "    def __init__ (self,nickname,type):\n",
    "        self.nickname = nickname\n",
    "        self.__type = type\n",
    "        \n",
    "\n",
    "    def get_type(self):\n",
    "        return self.__type\n",
    "        \n",
    "    def set_type(self,type):\n",
    "        character_types = {'전사','법사','치유사'}\n",
    "        for given_type in character_types:\n",
    "            if (type == given_type):\n",
    "                self.__type = type\n",
    "                return\n",
    "\n",
    "        raise ValueError (\"잘못된 캐릭터 타입을 선택하셨습니다.\")\n",
    "        \n",
    "\n",
    "my_character = Character('산골짜기 다람쥐','전사')\n",
    "print(my_caracter.nickname)\n",
    "\n",
    "try:\n",
    "    print(my_character.__type)\n",
    "except AttributeError as e:\n",
    "    print(e)\n",
    "\n",
    "print(my_character.get_type())\n",
    "\n",
    "my_caracter.set_type(\"법사\")\n",
    "print(my_character.get_type())\n",
    "\n",
    "try:\n",
    "    my_character.set_type(\"흑마법사\")\n",
    "except ValueError as e:\n",
    "    print(e)"
   ]
  },
  {
   "cell_type": "code",
   "execution_count": null,
   "metadata": {},
   "outputs": [],
   "source": []
  }
 ],
 "metadata": {
  "kernelspec": {
   "display_name": "pystudy_env",
   "language": "python",
   "name": "python3"
  },
  "language_info": {
   "codemirror_mode": {
    "name": "ipython",
    "version": 3
   },
   "file_extension": ".py",
   "mimetype": "text/x-python",
   "name": "python",
   "nbconvert_exporter": "python",
   "pygments_lexer": "ipython3",
   "version": "3.12.9"
  }
 },
 "nbformat": 4,
 "nbformat_minor": 2
}
