{
 "cells": [
  {
   "cell_type": "markdown",
   "metadata": {},
   "source": [
    "### 상속(inheritance)"
   ]
  },
  {
   "cell_type": "code",
   "execution_count": 3,
   "metadata": {},
   "outputs": [
    {
     "name": "stdout",
     "output_type": "stream",
     "text": [
      "Hello this is python\n",
      "korea\n"
     ]
    }
   ],
   "source": [
    "class Person:\n",
    "    national = 'korea'\n",
    "\n",
    "    def greeting(self):\n",
    "        return 'Hello this is python'\n",
    "\n",
    "class Student(Person):\n",
    "    pass\n",
    "\n",
    "student = Student()\n",
    "print(student.greeting())\n",
    "print(student.national) #클래스 속성에 접근"
   ]
  },
  {
   "cell_type": "code",
   "execution_count": 6,
   "metadata": {},
   "outputs": [
    {
     "name": "stdout",
     "output_type": "stream",
     "text": [
      "Hello. I am Learner\n",
      "I am learning python\n"
     ]
    }
   ],
   "source": [
    "class Person:\n",
    "    national = 'korea'\n",
    "\n",
    "    def greeting(self):\n",
    "        return 'Hello. I am Learner'\n",
    "\n",
    "class Learner:\n",
    "    national = 'korea'\n",
    "\n",
    "    def greeting(self):\n",
    "        return 'Hello. I am Learner'\n",
    "\n",
    "    def learn (self):\n",
    "        return 'I am learning python'\n",
    "\n",
    "class Student (Person, Learner):\n",
    "        pass\n",
    "\n",
    "student = Student()\n",
    "print(student.greeting())\n",
    "print(student.learn())\n",
    "\n",
    "\n",
    "\n",
    "\n"
   ]
  },
  {
   "cell_type": "code",
   "execution_count": 7,
   "metadata": {},
   "outputs": [],
   "source": [
    "class Person :\n",
    "    def __init__(self, name, phone):\n",
    "        self.name = name\n",
    "        self.phone = phone\n",
    "\n",
    "    def __str__(self):\n",
    "        return f'<person {self.name}>'\n",
    "        \n",
    "\n"
   ]
  },
  {
   "cell_type": "code",
   "execution_count": 22,
   "metadata": {},
   "outputs": [],
   "source": [
    "class Student(Person):\n",
    "    def __init__(self, name, phone, hobby):\n",
    "        # 1. 부모클래스명 .__init__(self,...)\n",
    "        # Person.__init__(self, name)\n",
    "\n",
    "        # 2.super().__init__(...)\n",
    "        super().__init__(name,phone)\n",
    "\n",
    "        # self.name = name\n",
    "        self.phone = phone\n",
    "        self.hobby = hobby\n"
   ]
  },
  {
   "cell_type": "code",
   "execution_count": 21,
   "metadata": {},
   "outputs": [
    {
     "name": "stdout",
     "output_type": "stream",
     "text": [
      "홍길동\n",
      "010-2222\n",
      "<person 홍길동>\n",
      "박무현 010-3333 드릴\n",
      "<person 박무현>\n",
      "신해량 010-4444 뜨개질\n",
      "<person 신해량>\n"
     ]
    }
   ],
   "source": [
    "p1 = Person('홍길동','010-2222')\n",
    "print(p1.name)\n",
    "print(p1.phone)\n",
    "print(p1)\n",
    "\n",
    "s1 = Student('박무현','010-3333','드릴')\n",
    "s2 = Student('신해량','010-4444','뜨개질')\n",
    "print(s1.name, s1.phone, s1.hobby)\n",
    "print(s1)\n",
    "\n",
    "print(s2.name, s2.phone, s2.hobby)\n",
    "print(s2)"
   ]
  },
  {
   "cell_type": "markdown",
   "metadata": {},
   "source": [
    "---\n",
    "### 다중상속"
   ]
  },
  {
   "cell_type": "code",
   "execution_count": null,
   "metadata": {},
   "outputs": [],
   "source": [
    "class Person:\n",
    "    finger = 10\n",
    "    eyes = 2\n",
    "\n",
    "    def introduce(self):\n",
    "        return '저는 사람입니다'\n",
    "\n",
    "class Animal:\n",
    "    fur = True\n",
    "\n",
    "    def introduce(self):\n",
    "        return '저는 동물입니다.'\n",
    "    \n",
    "class Baninbansu(Animal,Person): #상속받는 클래스\n",
    "    pass"
   ]
  },
  {
   "cell_type": "code",
   "execution_count": 28,
   "metadata": {},
   "outputs": [
    {
     "name": "stdout",
     "output_type": "stream",
     "text": [
      "10 2 True\n",
      "저는 동물입니다.\n"
     ]
    }
   ],
   "source": [
    "b1 = Baninbansu()\n",
    "\n",
    "print(b1.finger,b1.eyes,b1.fur)\n",
    "\n",
    "print(b1.introduce())"
   ]
  },
  {
   "cell_type": "markdown",
   "metadata": {},
   "source": [
    "### **문제 4: 네임스페이스 테스트 - 전역과 로컬**\n",
    "\n",
    "토끼는 이직 준비 도구를 사용하며, 전역 변수와 로컬 변수를 관리합니다. `namespace_test` 함수를 작성해 네임스페이스를 테스트하세요.\n",
    "\n",
    "1. 전역 변수 `tool`을 \"연필\"로 설정하세요.\n",
    "2. 함수 `namespace_test` 내부에 로컬 변수 `local_tool`을 \"키보드\"로 설정하고, `global` 키워드를 사용해 전역 변수 `tool`을 \"펜\"으로 수정하세요.\n",
    "3. 함수 내부에서 로컬 변수와 전역 변수의 값을 출력하세요."
   ]
  },
  {
   "cell_type": "code",
   "execution_count": 36,
   "metadata": {},
   "outputs": [
    {
     "name": "stdout",
     "output_type": "stream",
     "text": [
      "키보드\n",
      "펜\n"
     ]
    }
   ],
   "source": [
    "tool = '연필'\n",
    "\n",
    "def namespace_test():\n",
    "    local_tool = '키보드'\n",
    "\n",
    "    global tool \n",
    "    tool = '펜'\n",
    "    \n",
    "    print(local_tool)\n",
    "    print(tool)\n",
    "\n",
    "namespace_test()\n",
    "# print(tool)\n"
   ]
  },
  {
   "cell_type": "markdown",
   "metadata": {},
   "source": [
    "### \n",
    "\n",
    "### **문제 5: 네임스페이스 테스트 - 클래스와 인스턴스**\n",
    "\n",
    "토끼는 이직 준비 중 클래스를 통해 도구를 관리합니다. `Toolbox` 클래스를 만들어 네임스페이스를 테스트하세요.\n",
    "\n",
    "1. 클래스 속성 `tools`를 [\"노트북\", \"책상\"]으로 초기화하세요.\n",
    "2. 생성자를 통해 인스턴스 속성 `tools`를 설정하고, 객체마다 다른 도구를 가질 수 있도록 설정하세요.\n",
    "3. `add_tool` 메서드를 만들어 클래스 속성에 새 도구를 추가하세요."
   ]
  },
  {
   "cell_type": "code",
   "execution_count": 42,
   "metadata": {},
   "outputs": [],
   "source": [
    "class Toolbox :\n",
    "    tools = [\"노트북\",\"책상\"]\n",
    "\n",
    "    def  __init__(self):\n",
    "        self.tools = []\n",
    "    \n",
    "\n",
    "    def add_tool(self,tool):\n",
    "        # 클래스 속성\n",
    "        __class__.tools.append(tool)\n",
    "\n"
   ]
  },
  {
   "cell_type": "code",
   "execution_count": 45,
   "metadata": {},
   "outputs": [
    {
     "name": "stdout",
     "output_type": "stream",
     "text": [
      "[]\n",
      "['노트북', '책상']\n",
      "[]\n",
      "['노트북', '책상', '키보드']\n"
     ]
    }
   ],
   "source": [
    "toolbox = Toolbox()\n",
    "print(toolbox.tools)\n",
    "print(Toolbox.tools)\n",
    "\n",
    "toolbox.add_tool('키보드')\n",
    "print(toolbox.tools)\n",
    "print(Toolbox.tools)"
   ]
  },
  {
   "cell_type": "code",
   "execution_count": null,
   "metadata": {},
   "outputs": [],
   "source": [
    "class Toolbox :\n",
    "    tools = [\"노트북\",\"책상\"]\n",
    "\n",
    "    def  __init__(self):\n",
    "        self.tools = []\n",
    "    \n",
    "    @classmethod\n",
    "    def add_tool(cls,tool):\n",
    "        # 클래스매소드 cls\n",
    "        cls.tools.append(tool)"
   ]
  },
  {
   "cell_type": "markdown",
   "metadata": {},
   "source": [
    "### **문제 6: 네임스페이스 테스트 - nonlocal**\n",
    "\n",
    "토끼는 이직 준비 중 추가적인 정보가 필요합니다. 중첩 함수와 `nonlocal` 키워드를 사용해 바깥 함수의 변수를 수정하세요.\n",
    "\n",
    "1. 함수 `nested_function`을 작성하세요.\n",
    "2. 바깥 함수의 변수 `status`를 \"작성 중\"으로 초기화하세요.\n",
    "3. 중첩 함수에서 `status`를 \"완료\"로 수정하세요."
   ]
  },
  {
   "cell_type": "code",
   "execution_count": 49,
   "metadata": {},
   "outputs": [
    {
     "name": "stdout",
     "output_type": "stream",
     "text": [
      "작성중\n",
      "완료\n"
     ]
    }
   ],
   "source": [
    "def nested_function():\n",
    "\n",
    "    status = '작성중'\n",
    "\n",
    "    def inner_function():\n",
    "        nonlocal status\n",
    "        status = '완료'\n",
    "\n",
    "        \n",
    "    print(status)\n",
    "    inner_function()\n",
    "    print(status)\n",
    "\n",
    "nested_function()"
   ]
  },
  {
   "cell_type": "code",
   "execution_count": null,
   "metadata": {},
   "outputs": [],
   "source": []
  },
  {
   "cell_type": "markdown",
   "metadata": {},
   "source": [
    "---\n",
    "### 오버라이딩"
   ]
  },
  {
   "cell_type": "code",
   "execution_count": 56,
   "metadata": {},
   "outputs": [],
   "source": [
    "class Animal:\n",
    "    species = '동물'\n",
    "\n",
    "    def introduce(self):\n",
    "        print('동물의 왕국에 오신것을 환영합니다.')\n",
    "\n",
    "class Mammalia(Animal):\n",
    "    species = '포유류'\n",
    "    name = '토끼'\n",
    "\n",
    "    def has_far(self):\n",
    "        return True\n",
    "\n",
    "class Rabbit(Mammalia):\n",
    "    def eat(self):\n",
    "        print('당근은 정말 맛있어')\n",
    "\n",
    "\n",
    "class RabbitTeacher(Rabbit):\n",
    "    def introduce(self):\n",
    "        print('안녕하세요 토끼 감사합니다')"
   ]
  },
  {
   "cell_type": "code",
   "execution_count": 114,
   "metadata": {},
   "outputs": [
    {
     "name": "stdout",
     "output_type": "stream",
     "text": [
      "안녕하세요 토끼 감사합니다\n",
      "토끼\n",
      "당근은 정말 맛있어\n",
      "포유류\n",
      "True\n",
      "포유류\n",
      "안녕하세요 토끼 감사합니다\n"
     ]
    }
   ],
   "source": [
    "rt = RabbitTeacher()\n",
    "rt.introduce()\n",
    "\n",
    "print(rt.name)\n",
    "rt.eat()\n",
    "\n",
    "print(rt.species)\n",
    "print(rt.has_far())\n",
    "\n",
    "print(rt.species)\n",
    "rt.introduce()"
   ]
  },
  {
   "cell_type": "markdown",
   "metadata": {},
   "source": [
    "### 문제 1: **기본 상속을 활용한 클래스 생성**\n",
    "\n",
    "토끼는 이직을 준비하며 새로운 직업군을 탐색하고 있습니다. 토끼의 기본적인 정보를 담는 `Person` 클래스를 만들고, 이를 상속받는 `Candidate` 클래스를 생성하세요.\n",
    "\n",
    "1. `Person` 클래스:\n",
    "    - 클래스 속성 `national`은 \"Korea\"로 설정합니다.\n",
    "    - ****메서드 `introduce`는 `\"안녕하세요, 저는 한국에서 왔습니다.\"`를 반환합니다.\n",
    "2. `Candidate` 클래스:\n",
    "    - `Person` 클래스를 상속받습니다.\n",
    "    - 생성자에서 이름(`name`)과 관심 분야(`field`)를 매개변수로 받아 저장합니다.\n",
    "    - 메서드 `introduce`를 오버라이드하여 `\"안녕하세요, 저는 [name]입니다. [field] 분야에 관심이 있습니다.\"`를 반환합니다."
   ]
  },
  {
   "cell_type": "code",
   "execution_count": 81,
   "metadata": {},
   "outputs": [],
   "source": [
    "class Person :\n",
    "    national = 'korea'\n",
    "    \n",
    "    def introduce(self):\n",
    "        return '안녕하세요 저는 한국에서 왔습니다'\n",
    "\n",
    "\n",
    "class Candidate(Person):\n",
    "    \n",
    "    def __init__ (self, name, field):\n",
    "        self.name = name\n",
    "        self.field = field\n",
    "\n",
    "    def introduce(self):\n",
    "        return f'안녕하세요, 저는 {self.name}입니다. {self.field}분야에 관심이 있습니다'\n"
   ]
  },
  {
   "cell_type": "code",
   "execution_count": 82,
   "metadata": {},
   "outputs": [
    {
     "name": "stdout",
     "output_type": "stream",
     "text": [
      "안녕하세요 저는 한국에서 왔습니다\n",
      "안녕하세요, 저는 모카입니다. 고스트헌터분야에 관심이 있습니다\n"
     ]
    }
   ],
   "source": [
    "p = Person()\n",
    "c = Candidate('모카','고스트헌터')\n",
    "\n",
    "print(p.introduce())\n",
    "print(c.introduce())"
   ]
  },
  {
   "cell_type": "markdown",
   "metadata": {},
   "source": [
    "### 문제 2: **다중 상속을 활용한 클래스 생성**\n",
    "\n",
    "토끼는 이직을 준비하며 여러 강사님들의 도움을 받고 있습니다. 강사의 역할을 분리한 클래스를 만들어 상속 구조를 테스트하세요.\n",
    "\n",
    "1. `Mentor` 클래스:\n",
    "    - 메서드 `introduce`는 `\"안녕하세요, 저는 한국에서 왔습니다.\"`를 반환합니다.\n",
    "    - 메서드 `guide`는 `\"이직 준비를 도와드립니다.\"`를 반환합니다.\n",
    "2. `Lecturer` 클래스:\n",
    "    - 메서드 `teach`는 `\"이직에 필요한 기술을 가르쳐드립니다.\"`를 반환합니다.\n",
    "3. `Coach` 클래스:\n",
    "    - `Mentor`와 `Lecturer` 클래스를 다중 상속받습니다.\n",
    "    - 메서드 `support`는 `\"여러 방면으로 지원을 아끼지 않겠습니다.\"`를 반환합니다."
   ]
  },
  {
   "cell_type": "code",
   "execution_count": 86,
   "metadata": {},
   "outputs": [],
   "source": [
    "class Mentor:\n",
    "\n",
    "    def guide(self):\n",
    "        return '이직준비를 도와드립니다.'\n",
    "\n",
    "class Lecturer:\n",
    "    def teach(self):\n",
    "        return '이직에 필요한 기술을 가르쳐드립니다.'\n",
    "\n",
    "class Coach(Mentor,Lecturer):\n",
    "    def support(self):\n",
    "        return '여러 방면으로 지원을 아끼지 않겠습니다.'\n",
    "\n",
    "\n"
   ]
  },
  {
   "cell_type": "code",
   "execution_count": 89,
   "metadata": {},
   "outputs": [
    {
     "name": "stdout",
     "output_type": "stream",
     "text": [
      "이직준비를 도와드립니다.\n",
      "이직에 필요한 기술을 가르쳐드립니다.\n",
      "여러 방면으로 지원을 아끼지 않겠습니다.\n",
      "이직준비를 도와드립니다.\n"
     ]
    }
   ],
   "source": [
    "m = Mentor()\n",
    "l = Lecturer()\n",
    "c = Coach()\n",
    "\n",
    "print(m.guide())\n",
    "print(l.teach())\n",
    "print(c.support())\n",
    "print(c.guide())\n",
    "#coach는 두 클래스를 상속받고 있기 때문에 매서드 호출이 가능하다.\n"
   ]
  },
  {
   "cell_type": "markdown",
   "metadata": {},
   "source": [
    "### 문제 3: **부모 클래스 속성 오버라이딩**\n",
    "\n",
    "토끼는 이직 준비를 위해 개인적인 특성을 강조하고 있습니다. 부모 클래스의 메서드를 오버라이딩하여 각기 다른 인스턴스를 만들어보세요.\n",
    "\n",
    "1. `Person` 클래스:\n",
    "    - 속성 `name`과 `national`을 생성자로 받아 저장합니다.\n",
    "    - 메서드 `introduce`는 `\"안녕하세요, 저는 [name]입니다. 저는 [national]에서 왔습니다.\"`를 반환합니다.\n",
    "2. `Candidate` 클래스:\n",
    "    - `Person` 클래스를 상속받습니다.\n",
    "    - `introduce` 메서드를 오버라이드하여 `\"안녕하세요, 제 이름은 [name]이고, 이직 준비 중입니다.\"`를 반환합니다."
   ]
  },
  {
   "cell_type": "code",
   "execution_count": 100,
   "metadata": {},
   "outputs": [],
   "source": [
    "class Person:\n",
    "\n",
    "    def __init__(self,name,national):\n",
    "        self.name =name\n",
    "        self.national = national\n",
    "   \n",
    "\n",
    "    def introduce(self):\n",
    "        return f'안녕하세요 저는 {self.name}입니다. 저는 {self.national}에서 왔습니다.'\n",
    "\n",
    "class Candidate(Person):\n",
    "\n",
    "    def introduce(self):\n",
    "        return f'안녕하세요, 제이름은 {self.name}이고, 이직 준비 중 입니다.'\n"
   ]
  },
  {
   "cell_type": "code",
   "execution_count": 101,
   "metadata": {},
   "outputs": [
    {
     "name": "stdout",
     "output_type": "stream",
     "text": [
      "안녕하세요 저는 모카입니다. 저는 일본에서 왔습니다.\n",
      "------\n",
      "안녕하세요, 제이름은 원희이고, 이직 준비 중 입니다.\n"
     ]
    }
   ],
   "source": [
    "p = Person('모카','일본')\n",
    "print(p.introduce())\n",
    "print('------')\n",
    "c = Candidate('원희','한국')\n",
    "print(c.introduce())"
   ]
  },
  {
   "cell_type": "markdown",
   "metadata": {},
   "source": [
    "### 문제 4: **상속의 특성 통합 테스트**\n",
    "\n",
    "토끼는 강사님들의 지도를 받으며 다양한 분야에서 경험을 쌓고 있습니다. 상속과 메서드 오버라이딩, 다중 상속을 종합적으로 테스트하세요.\n",
    "\n",
    "1. `Mentor` 클래스:\n",
    "    - 속성 `field`를 생성자로 받아 저장합니다.\n",
    "    - 메서드 `guide`는 `\"저는 [field] 분야의 멘토입니다.\"`를 반환합니다.\n",
    "2. `Lecturer` 클래스:\n",
    "    - 속성 `experience`를 생성자로 받아 저장합니다.\n",
    "    - 메서드 `teach`는 `\"저는 [experience]년의 강의 경력을 가지고 있습니다.\"`를 반환합니다.\n",
    "3. `Candidate` 클래스:\n",
    "    - `Mentor`와 `Lecturer` 클래스를 다중 상속받습니다.\n",
    "    - `guide` 메서드를 오버라이드하여 `\"저는 [field] 분야의 강사이며, 이직 준비를 도와드립니다.\"`를 반환합니다.\n",
    "    "
   ]
  },
  {
   "cell_type": "code",
   "execution_count": 108,
   "metadata": {},
   "outputs": [],
   "source": [
    "class Mentor:\n",
    "    def __init__(self,field):\n",
    "        self.field = field\n",
    "\n",
    "    def guide (self):\n",
    "        return f'저는 {self.field} 분야의 멘토입니다.'\n",
    "    \n",
    "class Lecturer:\n",
    "    def __init__(self,experience):\n",
    "        self.experience = experience\n",
    "\n",
    "    def teach (self):\n",
    "        return f'저는 {self.experience}년의 강의 경력을 가지고 있습니다.'\n",
    "\n",
    "class Candidate(Mentor, Lecturer):\n",
    "    def __init__(self,field,experience):\n",
    "        Mentor.__init__(self,field)\n",
    "        Lecturer.__init__(self,experience)\n",
    "\n",
    "    def guide (self):\n",
    "        return f'저는 {self.field}분야의 강사이며, 이직 준비를 도와드립니다'\n",
    "    "
   ]
  },
  {
   "cell_type": "code",
   "execution_count": 112,
   "metadata": {},
   "outputs": [
    {
     "name": "stdout",
     "output_type": "stream",
     "text": [
      "저는 LLM 분야의 멘토입니다.\n",
      "저는 Ai분야의 강사이며, 이직 준비를 도와드립니다\n",
      "저는 30년의 강의 경력을 가지고 있습니다.\n"
     ]
    }
   ],
   "source": [
    "m = Mentor ('LLM')\n",
    "l = Lecturer(30)\n",
    "c = Candidate('Ai',30)\n",
    "\n",
    "print(m.guide())\n",
    "print(c.guide())\n",
    "print(l.teach())"
   ]
  },
  {
   "cell_type": "code",
   "execution_count": null,
   "metadata": {},
   "outputs": [],
   "source": []
  }
 ],
 "metadata": {
  "kernelspec": {
   "display_name": "pystudy_env",
   "language": "python",
   "name": "python3"
  },
  "language_info": {
   "codemirror_mode": {
    "name": "ipython",
    "version": 3
   },
   "file_extension": ".py",
   "mimetype": "text/x-python",
   "name": "python",
   "nbconvert_exporter": "python",
   "pygments_lexer": "ipython3",
   "version": "3.12.9"
  }
 },
 "nbformat": 4,
 "nbformat_minor": 2
}
