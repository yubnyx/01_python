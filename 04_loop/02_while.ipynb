{
 "cells": [
  {
   "cell_type": "markdown",
   "metadata": {},
   "source": [
    "### while"
   ]
  },
  {
   "cell_type": "code",
   "execution_count": 1,
   "metadata": {},
   "outputs": [
    {
     "name": "stdout",
     "output_type": "stream",
     "text": [
      "1\n",
      "2\n",
      "3\n",
      "4\n",
      "5\n",
      "6\n",
      "7\n",
      "8\n",
      "9\n",
      "10\n",
      "-끝-\n"
     ]
    }
   ],
   "source": [
    "i = 1\n",
    "\n",
    "while i <= 10:\n",
    "    print(i)\n",
    "    i += 1 # i=i+1\n",
    "print('-끝-')"
   ]
  },
  {
   "cell_type": "code",
   "execution_count": 2,
   "metadata": {},
   "outputs": [
    {
     "name": "stdout",
     "output_type": "stream",
     "text": [
      "1\n",
      "2\n",
      "3\n",
      "4\n",
      "5\n",
      "6\n",
      "-끝-\n"
     ]
    }
   ],
   "source": [
    "i = 1\n",
    "\n",
    "while i <= 10:\n",
    "    if i == 7:\n",
    "        break\n",
    "    print(i)\n",
    "    i += 1\n",
    "\n",
    "print('-끝-')"
   ]
  },
  {
   "cell_type": "code",
   "execution_count": 7,
   "metadata": {},
   "outputs": [
    {
     "name": "stdout",
     "output_type": "stream",
     "text": [
      "1\n",
      "2\n",
      "3\n",
      "4\n",
      "5\n",
      "6\n",
      "8\n",
      "9\n",
      "10\n",
      "------\n"
     ]
    }
   ],
   "source": [
    "i = 0\n",
    "\n",
    "while i < 10:\n",
    "    i += 1\n",
    "    if i == 7:\n",
    "        continue\n",
    "    print(i)\n",
    "print('------')"
   ]
  },
  {
   "cell_type": "markdown",
   "metadata": {},
   "source": [
    "---\n",
    "\n",
    "실습\n",
    "\n",
    "## **문제 7: 테이블 청소하기**\n",
    "\n",
    "**토끼는 닫기 전에 테이블을 모두 청소해야 한다.\"**\n",
    "\n",
    "토끼는 5번 테이블까지 순서대로 청소해야 합니다.\n",
    "\n",
    "1. `while`문을 사용하여 `1`번부터 `5`번 테이블을 청소하세요.\n",
    "2. 각 테이블마다 **\"[n번 테이블] 청소 완료!\"**를 출력하세요.\n",
    "\n"
   ]
  },
  {
   "cell_type": "code",
   "execution_count": 12,
   "metadata": {},
   "outputs": [
    {
     "name": "stdout",
     "output_type": "stream",
     "text": [
      "1번 테이블 청소 완료!\n",
      "2번 테이블 청소 완료!\n",
      "3번 테이블 청소 완료!\n",
      "4번 테이블 청소 완료!\n",
      "5번 테이블 청소 완료!\n"
     ]
    }
   ],
   "source": [
    "table_no = 1\n",
    "while table_no < 6:\n",
    "    print(f'{table_no}번 테이블 청소 완료!')\n",
    "    table_no = table_no + 1"
   ]
  },
  {
   "cell_type": "markdown",
   "metadata": {},
   "source": [
    "---\n",
    "\n",
    "## **문제 8: 손님이 그만 올 때까지 기다리기**\n",
    "\n",
    "**\"손님이 그만 올 때까지 카운터에서 기다리는 다람쥐.\"**\n",
    "\n",
    "토끼는 손님이 그만 올 때까지 카운터를 지켜야 합니다.\n",
    "\n",
    "1. 변수 `customers`에 초기값 `5`를 설정하세요.\n",
    "2. `while`문을 사용해 손님이 줄어들 때마다 `customers`를 1씩 감소시키세요.\n",
    "3. 손님이 0이 될 때까지 **\"남은 손님 수: [customers]명\"**을 출력하세요.\n",
    "4. 손님이 모두 떠나면 **\"오늘의 영업이 끝났습니다!\"**를 출력하세요.\n"
   ]
  },
  {
   "cell_type": "code",
   "execution_count": 15,
   "metadata": {},
   "outputs": [
    {
     "name": "stdout",
     "output_type": "stream",
     "text": [
      "남은 손님 수: 5명\n",
      "남은 손님 수: 4명\n",
      "남은 손님 수: 3명\n",
      "남은 손님 수: 2명\n",
      "남은 손님 수: 1명\n",
      "남은 손님 수: 0명\n",
      "오늘의 영업이 끝났습니다.\n"
     ]
    }
   ],
   "source": [
    "customers = 5\n",
    "\n",
    "while customers >= 0:\n",
    "    print(f'남은 손님 수: {customers}명')\n",
    "    customers = customers -1\n",
    "\n",
    "print('오늘의 영업이 끝났습니다.')"
   ]
  },
  {
   "cell_type": "markdown",
   "metadata": {},
   "source": [
    "\n",
    "---\n",
    "\n",
    "## **문제 9: 알바비 계산하기**\n",
    "\n",
    "**\"토끼는 일한 시간만큼 알바비를 계산합니다.\"**\n",
    "\n",
    "토끼의 시급은 **1시간에 1000원**입니다.\n",
    "\n",
    "1. 변수 `work_hours`에 일한 시간(정수)을 입력받으세요.\n",
    "2. `while`문을 사용해 일한 시간만큼 반복하며 `pay`에 시급을 더하세요.\n",
    "3. 최종 알바비를 **\"오늘의 알바비는 [pay]원입니다.\"**로 출력하세요."
   ]
  },
  {
   "cell_type": "code",
   "execution_count": 16,
   "metadata": {},
   "outputs": [
    {
     "name": "stdout",
     "output_type": "stream",
     "text": [
      "오늘의 알바비는 5000원입니다.\n"
     ]
    }
   ],
   "source": [
    "work_hours = int(input('일한 시간을 입력하세요: '))\n",
    "\n",
    "pay = 0\n",
    "\n",
    "while work_hours > 0:\n",
    "    pay = pay + 1000\n",
    "    work_hours = work_hours - 1\n",
    "\n",
    "print(f'오늘의 알바비는 {pay}원입니다.')"
   ]
  }
 ],
 "metadata": {
  "kernelspec": {
   "display_name": "pystudy_env",
   "language": "python",
   "name": "python3"
  },
  "language_info": {
   "codemirror_mode": {
    "name": "ipython",
    "version": 3
   },
   "file_extension": ".py",
   "mimetype": "text/x-python",
   "name": "python",
   "nbconvert_exporter": "python",
   "pygments_lexer": "ipython3",
   "version": "3.12.9"
  }
 },
 "nbformat": 4,
 "nbformat_minor": 2
}
