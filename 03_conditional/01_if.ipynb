{
 "cells": [
  {
   "cell_type": "markdown",
   "metadata": {},
   "source": [
    "### 조건문\n"
   ]
  },
  {
   "cell_type": "code",
   "execution_count": null,
   "metadata": {},
   "outputs": [
    {
     "name": "stdout",
     "output_type": "stream",
     "text": [
      "---------\n"
     ]
    }
   ],
   "source": [
    "if False :\n",
    "    print('if 블럭이 실행되었습니다.')\n",
    "print('---------')"
   ]
  },
  {
   "cell_type": "code",
   "execution_count": null,
   "metadata": {},
   "outputs": [
    {
     "name": "stdout",
     "output_type": "stream",
     "text": [
      "시험보느라 모두 수고하셨습니다.\n"
     ]
    }
   ],
   "source": [
    "score = 85\n",
    "if score >= 90:\n",
    "    print('우수학생이시네요.')\n",
    "\n",
    "print('시험보느라 모두 수고하셨습니다.')"
   ]
  },
  {
   "cell_type": "code",
   "execution_count": 8,
   "metadata": {},
   "outputs": [
    {
     "name": "stdout",
     "output_type": "stream",
     "text": [
      "즐거운 쇼핑 되세요^^\n"
     ]
    }
   ],
   "source": [
    "today = 1120\n",
    "\n",
    "your_birthday = input('생일을 입력해주세요(예:0000 4자리 입력) : ')\n",
    "\n",
    "if your_birthday == today:\n",
    "    print('오늘이 생일이시군요. 축하합니다^^.')\n",
    "\n",
    "print('즐거운 쇼핑 되세요^^')\n"
   ]
  },
  {
   "cell_type": "code",
   "execution_count": 10,
   "metadata": {},
   "outputs": [
    {
     "name": "stdout",
     "output_type": "stream",
     "text": [
      "34 은 짝수입니다.\n"
     ]
    }
   ],
   "source": [
    "num = 34\n",
    "if num % 2 == 0:\n",
    "    print(f'{num} 은 짝수입니다.')\n",
    "else:\n",
    "    print(f'{num} 은 홀수입니다.')"
   ]
  },
  {
   "cell_type": "code",
   "execution_count": 12,
   "metadata": {},
   "outputs": [
    {
     "name": "stdout",
     "output_type": "stream",
     "text": [
      "당신의 학점은 B입니다.\n"
     ]
    }
   ],
   "source": [
    "socre = 85\n",
    "\n",
    "if score >= 90 and score <= 100 :\n",
    "    grade = 'A'\n",
    " \n",
    "elif score >=80 :\n",
    "    grade = 'B'\n",
    "\n",
    "elif score >=70 :\n",
    "    grade = 'C'\n",
    "\n",
    "elif score >60 :\n",
    "    grade = 'D'\n",
    "\n",
    "else:\n",
    "    grade = 'F'\n",
    "\n",
    "print(f'당신의 학점은 {grade}입니다.')\n",
    "\n"
   ]
  },
  {
   "cell_type": "markdown",
   "metadata": {},
   "source": [
    "## **문제 1: 선택의 시작**\n",
    "\n",
    "**\"토끼는 서울에 갈 것인가?\"**\n",
    "\n",
    "토끼는 서울로 상경할 계획을 세우고 있습니다. 다음 조건을 확인하세요.\n",
    "\n",
    "1. 사용자에게 \"서울에 갈 계획이 있나요? (y/n): \"를 입력받으세요.\n",
    "2. 입력값이 `'y'`이면 **\"서울로 간다!\"**를 출력하세요."
   ]
  },
  {
   "cell_type": "code",
   "execution_count": 17,
   "metadata": {},
   "outputs": [
    {
     "name": "stdout",
     "output_type": "stream",
     "text": [
      "서울로 간다!\n"
     ]
    }
   ],
   "source": [
    "rabbit = 'y'\n",
    "go = input('서울에 갈 계획이 있나요? (Y/N): ')\n",
    "\n",
    "if rabbit == go:\n",
    "    print('서울로 간다!')\n",
    "else:\n",
    "    print('')"
   ]
  },
  {
   "cell_type": "markdown",
   "metadata": {},
   "source": [
    "## **문제 2: 짐 싸기**\n",
    "\n",
    "**\"토끼는 짐을 싸야 할까?\"**\n",
    "\n",
    "토끼는 서울에 가기로 마음먹었지만 짐을 싸야 할지 고민하고 있습니다.\n",
    "\n",
    "1. 사용자에게 \"집에 있는 가구를 다 가져갈까요? (y/n): \"를 입력받으세요.\n",
    "2. 입력값이 `'n'`이면 **\"서울에서 가구를 새로 산다.\"**를 출력하세요."
   ]
  },
  {
   "cell_type": "code",
   "execution_count": 18,
   "metadata": {},
   "outputs": [
    {
     "name": "stdout",
     "output_type": "stream",
     "text": [
      "서울에서 가구를 새로 산다.\n"
     ]
    }
   ],
   "source": [
    "get = input('집에 있는 가구를 다 가져갈까요?(y/n):')\n",
    "rabbit = 'n'\n",
    "\n",
    "if rabbit == get:\n",
    "    print('서울에서 가구를 새로 산다.')\n",
    "else:\n",
    "    print('서울에서 가구를 살 필요가 없다.')"
   ]
  },
  {
   "cell_type": "markdown",
   "metadata": {},
   "source": [
    "## **문제 3: 기차표 구매**\n",
    "\n",
    "**\"토끼는 기차표를 살 수 있을까?\"**\n",
    "\n",
    "토끼는 서울행 기차표를 구매하려 합니다.\n",
    "\n",
    "1. 사용자에게 \"현재 소지금은 얼마인가요? (숫자 입력): \"을 입력받으세요.\n",
    "2. 입력값이 `50000` 이상이면 **\"기차표를 구매했다!\"**를 출력하세요."
   ]
  },
  {
   "cell_type": "code",
   "execution_count": 21,
   "metadata": {},
   "outputs": [
    {
     "name": "stdout",
     "output_type": "stream",
     "text": [
      "기차표를 구매했다!\n"
     ]
    }
   ],
   "source": [
    "money = int(input('현재 소지금은 얼마인가요?(숫자입력): '))\n",
    "\n",
    "if money >= 50000 :\n",
    "    print('기차표를 구매했다!')\n",
    "else:\n",
    "    print('기차표를 구매 할 수 없다.')"
   ]
  },
  {
   "cell_type": "markdown",
   "metadata": {},
   "source": [
    "## **문제 4: 서울 도착**\n",
    "\n",
    "**\"토끼는 서울에 도착했다. 날씨가 좋을까?\"**\n",
    "\n",
    "서울에 도착한 토끼는 날씨에 따라 이동할 계획입니다.\n",
    "\n",
    "1. 사용자에게 \"오늘 서울 날씨는 맑음인가요? (y/n): \"를 입력받으세요.\n",
    "2. 입력값이 `'y'`이면 **\"서울 구경을 나간다.\"**를 출력하세요.\n",
    "3. 입력값이 `'n'`이면 **\"집에서 쉰다.\"**를 출력하세요."
   ]
  },
  {
   "cell_type": "code",
   "execution_count": 22,
   "metadata": {},
   "outputs": [
    {
     "name": "stdout",
     "output_type": "stream",
     "text": [
      "서울 구경을 나간다.\n"
     ]
    }
   ],
   "source": [
    "weather = input('오늘 서울 날씨는 맑음인가요?(y/n): ')\n",
    "\n",
    "if weather == 'y':\n",
    "    print('서울 구경을 나간다.')\n",
    "else:\n",
    "    print('집에서 쉰다.')"
   ]
  },
  {
   "cell_type": "markdown",
   "metadata": {},
   "source": [
    "## **문제 5: 집 구하기**\n",
    "\n",
    "**\"토끼는 어디에 살까?\"**\n",
    "\n",
    "서울에서 집을 구해야 하는 토끼는 예산에 따라 집을 선택합니다.\n",
    "\n",
    "1. 사용자에게 \"월세 예산은 얼마인가요? (숫자 입력): \"를 입력받으세요.\n",
    "2. 입력값이 `1000000` 이하이면 **\"고시원에서 산다.\"**를 출력하세요.\n",
    "3. 그 외의 경우 **\"원룸을 계약한다.\"**를 출력하세요."
   ]
  },
  {
   "cell_type": "code",
   "execution_count": 23,
   "metadata": {},
   "outputs": [
    {
     "name": "stdout",
     "output_type": "stream",
     "text": [
      "고시원에서 산다.\n"
     ]
    }
   ],
   "source": [
    "money = int(input('월세 예산은 얼마인가요? : '))\n",
    "\n",
    "if money <= 1000000 :\n",
    "    print('고시원에서 산다.')\n",
    "else:\n",
    "    print('원룸을 계약한다.')"
   ]
  },
  {
   "cell_type": "markdown",
   "metadata": {},
   "source": [
    "## **문제 6: 직장 찾기**\n",
    "\n",
    "**\"토끼는 직장을 구해야 한다!\"**\n",
    "\n",
    "토끼는 서울에서 일자리를 찾고 있습니다. 직장에 따라 일의 강도가 다릅니다.\n",
    "\n",
    "1. 사용자에게 \"원하는 직장 종류를 입력하세요 (프리랜서/중소기업/대기업): \"를 입력받으세요.\n",
    "2. 입력값이 `'프리랜서'`이면 **\"시간은 자유롭지만 불안정하다.\"**를 출력하세요.\n",
    "3. 입력값이 `'중소기업'`이면 **\"안정적이지만 일이 많다.\"**를 출력하세요."
   ]
  },
  {
   "cell_type": "code",
   "execution_count": 27,
   "metadata": {},
   "outputs": [
    {
     "name": "stdout",
     "output_type": "stream",
     "text": [
      "월급이 많지만 정년이 짧다.\n"
     ]
    }
   ],
   "source": [
    "work = input('원하는 직장 종류를 입력하세요 (프리랜서/중소기업/대기업): ')\n",
    "\n",
    "if work == '프리랜서':\n",
    "    print(\"시간은 자유롭지만 불안정하다.\")\n",
    "elif work == '중소기업':\n",
    "    print(\"안정적이지만 일이많다.\")\n",
    "else:\n",
    "    print(\"월급이 많지만 정년이 짧다.\")"
   ]
  },
  {
   "cell_type": "markdown",
   "metadata": {},
   "source": [
    "## **문제 7: 생활 루틴 정하기**\n",
    "\n",
    "**\"토끼는 서울에서 생활 루틴을 정해야 한다.\"**\n",
    "\n",
    "서울 생활에 적응한 토끼는 하루 루틴을 정하려 합니다.\n",
    "\n",
    "1. 사용자에게 \"아침에 일어나는 시간을 입력하세요 (숫자 입력, 1~10): \"를 입력받으세요.\n",
    "2. 입력값이 `3`이면 **\"운동을 한다.\"**를 출력하세요.\n",
    "3. 입력값이 `4`이면 **\"공부를 한다.\"**를 출력하세요.\n",
    "4. 입력값이 `5`이면 **\"바로 출근 준비를 한다.\"**를 출력하세요."
   ]
  },
  {
   "cell_type": "code",
   "execution_count": 29,
   "metadata": {},
   "outputs": [
    {
     "name": "stdout",
     "output_type": "stream",
     "text": [
      "공부를 한다.\n"
     ]
    }
   ],
   "source": [
    "wake = int( input ( '아침에 일어나는 시간을 입력하세요 (숫자 입력, 1~10):'))\n",
    "\n",
    "if wake == 3:\n",
    "    print('운동을 한다.')\n",
    "elif wake == 4:\n",
    "    print('공부를 한다.')\n",
    "elif wake == 5:\n",
    "    print('바로 출근 준비를 한다.')"
   ]
  },
  {
   "cell_type": "markdown",
   "metadata": {},
   "source": [
    "## **문제 8: 주말 계획**\n",
    "\n",
    "**\"토끼의 주말 계획은?\"**\n",
    "\n",
    "주말이 되자 토끼는 여유로운 시간을 보내려 합니다.\n",
    "\n",
    "1. 사용자에게 \"오늘 날씨가 어떤가요? (맑음/비/눈): \"를 입력받으세요.\n",
    "2. 입력값이 `'맑음'`이면 **\"한강에 가서 피크닉을 즐기는 척하며 일을 한다.\"**를 출력하세요.\n",
    "3. 입력값이 `'비'`이면 **\"집에서 빗소리를 ASMR 삼아 일을 한다.\"**를 출력하세요.\n",
    "4. 입력값이 `'눈'`이면 **\"전기장판 안에서 귤을 까먹으며 일을 한다.\"**를 출력하세요.\n",
    "5. 그 외의 값이 입력되면 **\"암막 커튼 때문에 일어나지 못했다. 푹 잘 수 있군, 럭키비키잖아?\"**를 출력하세요."
   ]
  },
  {
   "cell_type": "code",
   "execution_count": 31,
   "metadata": {},
   "outputs": [
    {
     "name": "stdout",
     "output_type": "stream",
     "text": [
      "암막 커튼 때문에 일어나지 못했다. 푹 잘 수 있군, 럭키비키잖아?\n"
     ]
    }
   ],
   "source": [
    "weather = input('오늘 날씨가 어떤가요?(맑음/비/눈)')\n",
    "\n",
    "if weather =='맑음':\n",
    "    print('한강에 가서 피크닉을 즐기는 척하며 일을 한다.')\n",
    "elif weather =='비':\n",
    "    print('집에서 빗소리를 ASMR 삼아 일을한다.')\n",
    "elif weather =='눈':\n",
    "    print('전기장판 안에서 귤을 까먹으며 일을 한다.')\n",
    "else:\n",
    "    print('암막 커튼 때문에 일어나지 못했다. 푹 잘 수 있군, 럭키비키잖아?')"
   ]
  },
  {
   "cell_type": "code",
   "execution_count": null,
   "metadata": {},
   "outputs": [],
   "source": [
    "num = int (input ('음료선택(1.콜라, 2.주스, 3.버블티티)'))\n",
    "\n",
    "match num:\n",
    "    case 1:\n",
    "        print('콜라 선택')\n",
    "    case 2:\n",
    "        print('버블티 선택')"
   ]
  }
 ],
 "metadata": {
  "kernelspec": {
   "display_name": "pystudy_env",
   "language": "python",
   "name": "python3"
  },
  "language_info": {
   "codemirror_mode": {
    "name": "ipython",
    "version": 3
   },
   "file_extension": ".py",
   "mimetype": "text/x-python",
   "name": "python",
   "nbconvert_exporter": "python",
   "pygments_lexer": "ipython3",
   "version": "3.12.9"
  }
 },
 "nbformat": 4,
 "nbformat_minor": 2
}
