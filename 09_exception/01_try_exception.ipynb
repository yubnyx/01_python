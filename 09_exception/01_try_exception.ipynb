{
 "cells": [
  {
   "cell_type": "markdown",
   "metadata": {},
   "source": [
    "### 예외"
   ]
  },
  {
   "cell_type": "code",
   "execution_count": 2,
   "metadata": {},
   "outputs": [],
   "source": [
    "class NotMyteacher(Exception):\n",
    "    pass\n"
   ]
  },
  {
   "cell_type": "code",
   "execution_count": 6,
   "metadata": {},
   "outputs": [
    {
     "name": "stdout",
     "output_type": "stream",
     "text": [
      "훌륭합니다\n"
     ]
    }
   ],
   "source": [
    "teacher_name = input('당신의 선생님 이름은 무엇입니까?')\n",
    "\n",
    "if teacher_name == '모카':\n",
    "    print('훌륭합니다')\n",
    "else:\n",
    "    raise NotMyteacher('선생님 이름도 모르다니..!')\n"
   ]
  },
  {
   "cell_type": "code",
   "execution_count": 7,
   "metadata": {},
   "outputs": [
    {
     "name": "stdout",
     "output_type": "stream",
     "text": [
      "훌륭합니다\n"
     ]
    },
    {
     "ename": "NotMyteacher",
     "evalue": "선생님 이름도 모르다니..!",
     "output_type": "error",
     "traceback": [
      "\u001b[1;31m---------------------------------------------------------------------------\u001b[0m",
      "\u001b[1;31mNotMyteacher\u001b[0m                              Traceback (most recent call last)",
      "Cell \u001b[1;32mIn[7], line 9\u001b[0m\n\u001b[0;32m      6\u001b[0m         \u001b[38;5;28;01mraise\u001b[39;00m NotMyteacher(\u001b[38;5;124m'\u001b[39m\u001b[38;5;124m선생님 이름도 모르다니..!\u001b[39m\u001b[38;5;124m'\u001b[39m)\n\u001b[0;32m      8\u001b[0m check_teacher(\u001b[38;5;124m\"\u001b[39m\u001b[38;5;124m모카\u001b[39m\u001b[38;5;124m\"\u001b[39m)\n\u001b[1;32m----> 9\u001b[0m \u001b[43mcheck_teacher\u001b[49m\u001b[43m(\u001b[49m\u001b[38;5;124;43m'\u001b[39;49m\u001b[38;5;124;43m원희\u001b[39;49m\u001b[38;5;124;43m'\u001b[39;49m\u001b[43m)\u001b[49m\n\u001b[0;32m     11\u001b[0m \u001b[38;5;28mprint\u001b[39m(\u001b[38;5;124m'\u001b[39m\u001b[38;5;124m여기는 출력이 안돼요\u001b[39m\u001b[38;5;124m'\u001b[39m)\n",
      "Cell \u001b[1;32mIn[7], line 6\u001b[0m, in \u001b[0;36mcheck_teacher\u001b[1;34m(teacher_name)\u001b[0m\n\u001b[0;32m      3\u001b[0m     \u001b[38;5;28mprint\u001b[39m(\u001b[38;5;124m'\u001b[39m\u001b[38;5;124m훌륭합니다\u001b[39m\u001b[38;5;124m'\u001b[39m)\n\u001b[0;32m      5\u001b[0m \u001b[38;5;28;01melse\u001b[39;00m:\n\u001b[1;32m----> 6\u001b[0m     \u001b[38;5;28;01mraise\u001b[39;00m NotMyteacher(\u001b[38;5;124m'\u001b[39m\u001b[38;5;124m선생님 이름도 모르다니..!\u001b[39m\u001b[38;5;124m'\u001b[39m)\n",
      "\u001b[1;31mNotMyteacher\u001b[0m: 선생님 이름도 모르다니..!"
     ]
    }
   ],
   "source": [
    "def check_teacher(teacher_name):\n",
    "    if teacher_name == '모카':\n",
    "        print('훌륭합니다')\n",
    "    \n",
    "    else:\n",
    "        raise NotMyteacher('선생님 이름도 모르다니..!')\n",
    "\n",
    "check_teacher(\"모카\")\n",
    "check_teacher('원희')\n",
    "\n",
    "print('여기는 출력이 안돼요')"
   ]
  },
  {
   "cell_type": "code",
   "execution_count": 10,
   "metadata": {},
   "outputs": [
    {
     "name": "stdout",
     "output_type": "stream",
     "text": [
      "예외가 발생했습니다!!\n",
      "그러나 중단되지는 않았어요!\n"
     ]
    }
   ],
   "source": [
    "def check_teacher(teacher_name):\n",
    "    if teacher_name == '모카':\n",
    "        print('훌륭합니다')\n",
    "    \n",
    "    else:\n",
    "        raise NotMyteacher('선생님 이름도 모르다니..!')\n",
    "\n",
    "try:\n",
    "    check_teacher(\"원희\")\n",
    "    check_teacher('모카')\n",
    "    print(\"이건 출력되지 않아요\")\n",
    "\n",
    "except:\n",
    "    print('예외가 발생했습니다!!')\n",
    "\n",
    "print('그러나 중단되지는 않았어요!')"
   ]
  },
  {
   "cell_type": "code",
   "execution_count": 12,
   "metadata": {},
   "outputs": [
    {
     "ename": "SyntaxError",
     "evalue": "incomplete input (3996625727.py, line 3)",
     "output_type": "error",
     "traceback": [
      "\u001b[1;36m  Cell \u001b[1;32mIn[12], line 3\u001b[1;36m\u001b[0m\n\u001b[1;33m    print(test_list[100])\u001b[0m\n\u001b[1;37m                         ^\u001b[0m\n\u001b[1;31mSyntaxError\u001b[0m\u001b[1;31m:\u001b[0m incomplete input\n"
     ]
    }
   ],
   "source": [
    "try:\n",
    "    test_list = [2025, 2, 17]\n",
    "    print(test_list[100])"
   ]
  },
  {
   "cell_type": "code",
   "execution_count": 13,
   "metadata": {},
   "outputs": [
    {
     "ename": "ZeroDivisionError",
     "evalue": "division by zero",
     "output_type": "error",
     "traceback": [
      "\u001b[1;31m---------------------------------------------------------------------------\u001b[0m",
      "\u001b[1;31mZeroDivisionError\u001b[0m                         Traceback (most recent call last)",
      "Cell \u001b[1;32mIn[13], line 1\u001b[0m\n\u001b[1;32m----> 1\u001b[0m \u001b[38;5;28mprint\u001b[39m(\u001b[38;5;241;43m2025\u001b[39;49m\u001b[38;5;241;43m/\u001b[39;49m\u001b[38;5;241;43m0\u001b[39;49m)\n",
      "\u001b[1;31mZeroDivisionError\u001b[0m: division by zero"
     ]
    }
   ],
   "source": [
    "print(2025/0)"
   ]
  },
  {
   "cell_type": "code",
   "execution_count": 16,
   "metadata": {},
   "outputs": [
    {
     "name": "stdout",
     "output_type": "stream",
     "text": [
      "2\n",
      "0으로는 나눌 수 없습니다.\n"
     ]
    }
   ],
   "source": [
    "try:\n",
    "    test_list = [2025,2,17]\n",
    "    print(test_list[1])\n",
    "\n",
    "    print(2025/0)\n",
    "\n",
    "except IndexError:\n",
    "    print('인덱싱 범위를 초과했습니다.')\n",
    "except ZeroDivisionError:\n",
    "    print('0으로는 나눌 수 없습니다.')"
   ]
  },
  {
   "cell_type": "code",
   "execution_count": 17,
   "metadata": {},
   "outputs": [
    {
     "name": "stdout",
     "output_type": "stream",
     "text": [
      "2\n",
      "1012.5\n",
      "else는 언제 실행될까요? 예외가 발생하지 않았을때!(try 구문 내 코드가 정상 작동 했을때!)\n",
      "finally는 언제 실행될까요? 언제나!\n"
     ]
    }
   ],
   "source": [
    "try:\n",
    "    idx= int(input('index 숫자: '))\n",
    "    test_list = [2025,2,17]\n",
    "    print(test_list[1])\n",
    "\n",
    "    num= int(input('나누는 수: '))\n",
    "\n",
    "    print(2025/num)\n",
    "\n",
    "except IndexError:\n",
    "    print('인덱싱 범위를 초과했습니다.')\n",
    "except ZeroDivisionError:\n",
    "    print('0으로는 나눌 수 없습니다.')\n",
    "\n",
    "else:\n",
    "    print('else는 언제 실행될까요? 예외가 발생하지 않았을때!(try 구문 내 코드가 정상 작동 했을때!)')\n",
    "\n",
    "finally:\n",
    "    print('finally는 언제 실행될까요? 언제나!')"
   ]
  },
  {
   "cell_type": "markdown",
   "metadata": {},
   "source": [
    "### **문제 1: 모든 예외 처리**\n",
    "\n",
    "토끼는 파일에서 데이터를 읽으려고 하지만, 파일이 없을 경우 프로그램이 중단되지 않도록 처리하고 싶습니다.\n",
    "\n",
    "1. `data.txt` 파일을 읽으려고 시도하세요.\n",
    "2. 파일이 없을 경우, `\"파일이 존재하지 않습니다.\"`를 출력하세요.\n",
    "3. 파일이 존재하면 파일 내용을 출력하세요."
   ]
  },
  {
   "cell_type": "code",
   "execution_count": 23,
   "metadata": {},
   "outputs": [
    {
     "name": "stdout",
     "output_type": "stream",
     "text": [
      "파일이 존재하지 않습니다.\n"
     ]
    }
   ],
   "source": [
    "try:\n",
    "    f = open('data.txt','r', encoding = ' utf-8') \n",
    "        \n",
    "    \n",
    "    print(f.read())\n",
    "\n",
    "except:\n",
    "    print('파일이 존재하지 않습니다.')"
   ]
  },
  {
   "cell_type": "markdown",
   "metadata": {},
   "source": [
    "### **문제 2: 특정 예외 처리**\n",
    "\n",
    "토끼는 사용자에게 나이를 입력받아 성인인지 확인하려고 합니다.\n",
    "\n",
    "1. 사용자로부터 나이를 입력받아 정수로 변환하세요.\n",
    "2. 입력값이 숫자가 아닐 경우, `\"숫자를 입력해야 합니다.\"`를 출력하세요.\n",
    "3. 숫자가 올바르게 입력되면 나이가 19 이상인지 확인하고, 19 이상이면 `\"성인입니다.\"`, 그렇지 않으면 `\"미성년자입니다.\"`를 출력하세요."
   ]
  },
  {
   "cell_type": "code",
   "execution_count": 19,
   "metadata": {},
   "outputs": [
    {
     "name": "stdout",
     "output_type": "stream",
     "text": [
      "숫자를 입력해야 합니다.\n"
     ]
    }
   ],
   "source": [
    "try:\n",
    "    user = int(input('나이를 입력하세요.: '))\n",
    "    if user >= 19:\n",
    "        print('성인입니다.')\n",
    "    else:\n",
    "        print('미성년자입니다.')\n",
    "\n",
    "except ValueError:\n",
    "    print('숫자를 입력해야 합니다.')"
   ]
  },
  {
   "cell_type": "markdown",
   "metadata": {},
   "source": [
    "### **문제 3: 특수 예외 상황과 오류 변수 사용**\n",
    "\n",
    "토끼는 숫자 두 개를 입력받아 나누기를 수행하려고 합니다.\n",
    "\n",
    "1. 사용자로부터 두 숫자를 입력받아 나누기를 수행하세요.\n",
    "2. 첫 번째 숫자에 대해서 0으로 나누기를 시도하면 `\"0으로 나눌 수 없습니다.\"`를 출력하세요.\n",
    "3. 입력값이 숫자가 아니면 `\"숫자를 입력해야 합니다.\"`를 출력하세요.\n",
    "4. 오류 메시지를 출력할 때 발생한 오류 내용을 함께 출력하세요."
   ]
  },
  {
   "cell_type": "code",
   "execution_count": null,
   "metadata": {},
   "outputs": [
    {
     "name": "stdout",
     "output_type": "stream",
     "text": [
      "0으로 나눌 수 없습니다.\n"
     ]
    }
   ],
   "source": [
    "try:\n",
    "    user = int(input('첫번째 숫자를 입력하세요: '))\n",
    "    f = int(input(\"두번째 숫자를 입력하세요.: \"))\n",
    "\n",
    "    if f == 0:\n",
    "        print(\"0으로 나눌 수 없습니다.\")\n",
    "\n",
    "        # except ZeroDivisionError as e:\n",
    "        #   print(\"0으로 나눌 수 없습니다.\")\n",
    "        # except ValueError as e:\n",
    "        #  print('숫자를 입력해야 합니다')\n",
    "\n",
    "    else:\n",
    "        print(user / f)\n",
    "\n",
    "except ValueError:\n",
    "    print(\"숫자를 입력해야 합니다.\")\n",
    "    "
   ]
  },
  {
   "cell_type": "markdown",
   "metadata": {},
   "source": [
    "### **문제 4: finally 블럭**\n",
    "\n",
    "토끼는 프로그램 실행 후 파일 자원을 반드시 정리해야 합니다.\n",
    "\n",
    "1. `log.txt` 파일을 읽으려고 시도하세요.\n",
    "2. 파일을 여는 중 예외가 발생할 경우, `\"파일을 열 수 없습니다.\"`를 출력하세요.\n",
    "3. 예외 발생 여부와 상관없이 파일 자원을 정리하는 메시지 `\"파일 자원 정리 완료\"`를 출력하세요."
   ]
  },
  {
   "cell_type": "code",
   "execution_count": 28,
   "metadata": {},
   "outputs": [
    {
     "ename": "SyntaxError",
     "evalue": "invalid syntax. Maybe you meant '==' or ':=' instead of '='? (1763714904.py, line 1)",
     "output_type": "error",
     "traceback": [
      "\u001b[1;36m  Cell \u001b[1;32mIn[28], line 1\u001b[1;36m\u001b[0m\n\u001b[1;33m    f = ('log.txt','r',encodig= 'utf-8')\u001b[0m\n\u001b[1;37m                       ^\u001b[0m\n\u001b[1;31mSyntaxError\u001b[0m\u001b[1;31m:\u001b[0m invalid syntax. Maybe you meant '==' or ':=' instead of '='?\n"
     ]
    }
   ],
   "source": [
    " f = ('log.txt','r',encodig= 'utf-8')\n"
   ]
  },
  {
   "cell_type": "code",
   "execution_count": 31,
   "metadata": {},
   "outputs": [
    {
     "ename": "SyntaxError",
     "evalue": "invalid syntax. Maybe you meant '==' or ':=' instead of '='? (3951632472.py, line 3)",
     "output_type": "error",
     "traceback": [
      "\u001b[1;36m  Cell \u001b[1;32mIn[31], line 3\u001b[1;36m\u001b[0m\n\u001b[1;33m    f = ('log.txt','r',encodig= 'utf-8')\u001b[0m\n\u001b[1;37m                       ^\u001b[0m\n\u001b[1;31mSyntaxError\u001b[0m\u001b[1;31m:\u001b[0m invalid syntax. Maybe you meant '==' or ':=' instead of '='?\n"
     ]
    }
   ],
   "source": [
    "f = None\n",
    "try:\n",
    "    f = ('log.txt','r',encodig= 'utf-8')\n",
    "    print(f.read())\n",
    "\n",
    "except FileNotFoundError:\n",
    "    print('파일을 열 수 없습니다.')\n",
    "\n",
    "finally:\n",
    "    if f:\n",
    "        f.close()\n",
    "    print('파일 자원 정리 완료')"
   ]
  },
  {
   "cell_type": "markdown",
   "metadata": {},
   "source": [
    "### **문제 5: try-else 블럭**\n",
    "\n",
    "토끼는 사용자로부터 숫자를 입력받아 2로 나눈 결과를 출력하려고 합니다.\n",
    "\n",
    "1. 사용자로부터 숫자를 입력받아 정수로 변환하세요.\n",
    "2. 입력값이 숫자가 아닐 경우 `\"숫자를 입력해야 합니다.\"`를 출력하세요.\n",
    "3. 숫자가 올바르게 입력되면 입력값을 2로 나눈 결과를 출력하세요."
   ]
  },
  {
   "cell_type": "code",
   "execution_count": 35,
   "metadata": {},
   "outputs": [
    {
     "name": "stdout",
     "output_type": "stream",
     "text": [
      "2.0\n"
     ]
    }
   ],
   "source": [
    "num = 0\n",
    "try:\n",
    "    num = int(input('숫자: '))\n",
    "    \n",
    "\n",
    "except ValueError:\n",
    "    print('숫자를 입력해야 합니다.')\n",
    "\n",
    "else:\n",
    "    print(num/2)"
   ]
  },
  {
   "cell_type": "code",
   "execution_count": null,
   "metadata": {},
   "outputs": [],
   "source": []
  }
 ],
 "metadata": {
  "kernelspec": {
   "display_name": "pystudy_env",
   "language": "python",
   "name": "python3"
  },
  "language_info": {
   "codemirror_mode": {
    "name": "ipython",
    "version": 3
   },
   "file_extension": ".py",
   "mimetype": "text/x-python",
   "name": "python",
   "nbconvert_exporter": "python",
   "pygments_lexer": "ipython3",
   "version": "3.12.9"
  }
 },
 "nbformat": 4,
 "nbformat_minor": 2
}
