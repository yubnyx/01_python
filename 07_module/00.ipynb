{
 "cells": [
  {
   "cell_type": "markdown",
   "metadata": {},
   "source": [
    "### 문제 1: 토끼**의 팀원 소개 모듈**\n",
    "\n",
    "토끼는 대기업에 입사한 후, 팀원들의 역할을 소개하는 프로그램을 작성하려고 합니다. `team_module.py`라는 모듈을 생성하고 이를 사용해 아래 요구사항을 구현하세요.\n",
    "\n",
    "```\n",
    "\"안녕하세요, 주식회사 Python입니다.\"\n",
    "\"저는 팀장입니다. 팀을 이끌고 있습니다.\"\n",
    "\"저는 개발자입니다. 프로젝트를 개발하고 있습니다.\"\n",
    "```\n",
    "\n",
    "1. **`team_module.py` 내용**:\n",
    "    - 함수 `introduce_manager()`: \"저는 팀장입니다. 팀을 이끌고 있습니다.\" 반환\n",
    "    - 함수 `introduce_developer()`: \"저는 개발자입니다. LLM 서비스를 개발하고 있습니다.\" 반환\n",
    "    - 변수 `company`: \"주식회사 Python\"\n",
    "2. 메인 스크립트에서 `team_module.py`를 불러와 아래와 같이 출력하세요:"
   ]
  },
  {
   "cell_type": "code",
   "execution_count": 5,
   "metadata": {},
   "outputs": [
    {
     "name": "stdout",
     "output_type": "stream",
     "text": [
      "저는 팀장입니다. 팀을 이끌고 있습니다.\n",
      "저는 개발자입니다. LLM 서비스를 개발하고 있습니다.\n"
     ]
    }
   ],
   "source": [
    "import team_module\n",
    "\n",
    "print(team_module.introduce_manager())\n",
    "print(team_module.introduce_developer())"
   ]
  },
  {
   "cell_type": "markdown",
   "metadata": {},
   "source": [
    "### 문제 2: 토끼**의 출퇴근 관리 모듈**\n",
    "\n",
    "토끼는 팀원들의 출퇴근 시간을 관리하는 프로그램을 작성하고자 합니다. `attendance_module.py`를 생성하고 이를 사용해 아래 요구사항을 구현하세요.\n",
    "\n",
    "1. **`attendance_module.py` 내용**:\n",
    "    - 함수 **`record_attendance(name, time)`**: \"{name}님이 {time}에 출근했습니다.\" 반환\n",
    "    - 함수 `record_leave(name, time)`: \"{name}님이 {time}에 퇴근했습니다.\" 반환\n",
    "2. 메인 스크립트에서 **`attendance_module.py`를** 불러와 아래와 같이 출력하세요:\n",
    "\"토끼님이 9:00에 출근했습니다.\"\n",
    "\"토끼님이 18:00에 퇴근했습니다.\""
   ]
  },
  {
   "cell_type": "code",
   "execution_count": 6,
   "metadata": {},
   "outputs": [
    {
     "name": "stdout",
     "output_type": "stream",
     "text": [
      "토끼님이 9:00에 출근했습니다.\n",
      "토끼님이 18:00에 퇴근했습니다.\n"
     ]
    }
   ],
   "source": [
    "import attendance_module\n",
    "\n",
    "print(attendance_module.record_attendance('토끼','9:00'))\n",
    "\n",
    "print(attendance_module.record_leave('토끼','18:00'))"
   ]
  },
  {
   "cell_type": "markdown",
   "metadata": {},
   "source": [
    "### 문제 3: 토끼**의 업무 진행 모듈**\n",
    "\n",
    "토끼는 팀에서 업무 진행 상황을 기록하는 프로그램을 작성하려 합니다. `task_module.py`를 생성하고 이를 사용해 아래 요구사항을 구현하세요.\n",
    "\n",
    "1. **`task_module.py` 내용**:\n",
    "    - 함수 `start_task(task_name)`: \"작업 '{task_name}'이(가) 시작되었습니다.\" 반환\n",
    "    - 함수 `complete_task(task_name)`: \"작업 '{task_name}'이(가) 완료되었습니다.\" 반환\n",
    "2. 메인 스크립트에서 `task_module.py`를 불러와 아래와 같이 출력하세요:"
   ]
  },
  {
   "cell_type": "code",
   "execution_count": 25,
   "metadata": {},
   "outputs": [
    {
     "name": "stdout",
     "output_type": "stream",
     "text": [
      "코드리뷰이 시작되었습니다.\n"
     ]
    }
   ],
   "source": [
    "import task_module\n",
    "\n",
    "\n",
    "print(task_module.start_task('코드리뷰'))"
   ]
  },
  {
   "cell_type": "markdown",
   "metadata": {},
   "source": [
    "### 문제 4: **내장 모듈을 활용한 토끼의 업무 효율성 계산**\n",
    "\n",
    "토끼는 자신의 업무 효율성을 계산하려고 합니다. `math` 모듈을 사용하여 아래 요구사항을 구현하세요.\n",
    "\n",
    "1. 매일 처리한 업무량을 기록한 배열이 [10, 12, 8, 15, 9]라면 평균 업무량을 ***올림하여*(math.ceil)** 출력하세요.\n",
    "2. 평균 업무량보다 많이 처리한 날의 개수를 계산하세요."
   ]
  },
  {
   "cell_type": "code",
   "execution_count": 17,
   "metadata": {},
   "outputs": [
    {
     "name": "stdout",
     "output_type": "stream",
     "text": [
      "11\n",
      "평균 업무량보다 많이 처리한 날 :2\n"
     ]
    }
   ],
   "source": [
    "import math\n",
    "\n",
    "works = [10,12,8,15,9]\n",
    "work_avg = sum(works)/len(works)\n",
    "#print(work_avg)\n",
    "work_avg = math.ceil(work_avg)\n",
    "print(work_avg)\n",
    "\n",
    "count = 0\n",
    "for work_time in works :\n",
    "    if work_time > work_avg:\n",
    "        count += 1\n",
    "        #count = count + 1\n",
    "\n",
    "# count = sum(for work_time in works if work_time > work_avg )\n",
    "print(f'평균 업무량보다 많이 처리한 날 :{count}')"
   ]
  },
  {
   "cell_type": "markdown",
   "metadata": {},
   "source": [
    "\n",
    "### 문제 5: **내장 모듈을 활용한 토끼의 업무 보고서 작성**\n",
    "\n",
    "토끼는 팀원의 업무 보고서를 작성하려고 합니다. `datetime` 모듈을 사용하여 현재 날짜와 시간을 포함한 보고서를 생성하세요.\n",
    "\n",
    "1. 현재 날짜와 시간. 팀원 이름과 작업 내용을 출력하세요."
   ]
  },
  {
   "cell_type": "code",
   "execution_count": null,
   "metadata": {},
   "outputs": [
    {
     "ename": "SyntaxError",
     "evalue": "invalid syntax. Perhaps you forgot a comma? (2115903753.py, line 3)",
     "output_type": "error",
     "traceback": [
      "\u001b[1;36m  Cell \u001b[1;32mIn[28], line 3\u001b[1;36m\u001b[0m\n\u001b[1;33m    print(f'[{datetime.now().strftime('%Y-%m-%d %H:%M:%S')}]토끼님이 작업 '코드 리뷰'을(를) 완료했습니다.')\u001b[0m\n\u001b[1;37m          ^\u001b[0m\n\u001b[1;31mSyntaxError\u001b[0m\u001b[1;31m:\u001b[0m invalid syntax. Perhaps you forgot a comma?\n"
     ]
    }
   ],
   "source": [
    "from datetime import datetime\n",
    "\n",
    "print(f'[{datetime.now().strftime('%Y-%m-%d %H:%M:%S')}]토끼님이 작업 '코드 리뷰'을(를) 완료했습니다.')"
   ]
  },
  {
   "cell_type": "code",
   "execution_count": 29,
   "metadata": {},
   "outputs": [
    {
     "name": "stdout",
     "output_type": "stream",
     "text": [
      "[2025-02-14 17:12:45] 토끼님이 작업 '코드 리뷰'을(를) 완료했습니다.\n"
     ]
    }
   ],
   "source": [
    "\n",
    "from datetime import datetime\n",
    "\n",
    "print(f\"[{datetime.now().strftime('%Y-%m-%d %H:%M:%S')}] 토끼님이 작업 '코드 리뷰'을(를) 완료했습니다.\")\n"
   ]
  },
  {
   "cell_type": "code",
   "execution_count": 1,
   "metadata": {},
   "outputs": [
    {
     "name": "stdout",
     "output_type": "stream",
     "text": [
      "Package            Version\n",
      "------------------ -----------\n",
      "asttokens          3.0.0\n",
      "colorama           0.4.6\n",
      "comm               0.2.2\n",
      "contourpy          1.3.1\n",
      "cycler             0.12.1\n",
      "debugpy            1.8.11\n",
      "decorator          5.1.1\n",
      "exceptiongroup     1.2.2\n",
      "executing          2.1.0\n",
      "fonttools          4.56.0\n",
      "importlib_metadata 8.6.1\n",
      "ipykernel          6.29.5\n",
      "ipython            8.32.0\n",
      "jedi               0.19.2\n",
      "jupyter_client     8.6.3\n",
      "jupyter_core       5.7.2\n",
      "kiwisolver         1.4.8\n",
      "matplotlib         3.10.0\n",
      "matplotlib-inline  0.1.7\n",
      "nest_asyncio       1.6.0\n",
      "numpy              2.2.3\n",
      "packaging          24.2\n",
      "pandas             2.2.3\n",
      "parso              0.8.4\n",
      "pickleshare        0.7.5\n",
      "pillow             11.1.0\n",
      "pip                25.0\n",
      "platformdirs       4.3.6\n",
      "prompt_toolkit     3.0.50\n",
      "psutil             5.9.0\n",
      "pure_eval          0.2.3\n",
      "Pygments           2.19.1\n",
      "pyparsing          3.2.1\n",
      "python-dateutil    2.9.0.post0\n",
      "pytz               2025.1\n",
      "pywin32            308\n",
      "pyzmq              26.2.0\n",
      "setuptools         75.8.0\n",
      "six                1.17.0\n",
      "stack_data         0.6.3\n",
      "tornado            6.4.2\n",
      "traitlets          5.14.3\n",
      "typing_extensions  4.12.2\n",
      "tzdata             2025.1\n",
      "wcwidth            0.2.13\n",
      "wheel              0.45.1\n",
      "zipp               3.21.0\n"
     ]
    }
   ],
   "source": [
    "! pip list #명령어 사용시 ! 붙이기"
   ]
  },
  {
   "cell_type": "code",
   "execution_count": 31,
   "metadata": {},
   "outputs": [
    {
     "name": "stdout",
     "output_type": "stream",
     "text": [
      "Collecting numpy\n",
      "  Downloading numpy-2.2.3-cp312-cp312-win_amd64.whl.metadata (60 kB)\n",
      "Downloading numpy-2.2.3-cp312-cp312-win_amd64.whl (12.6 MB)\n",
      "   ---------------------------------------- 0.0/12.6 MB ? eta -:--:--\n",
      "   ---------- ----------------------------- 3.4/12.6 MB 20.2 MB/s eta 0:00:01\n",
      "   ----------------------------------- ---- 11.3/12.6 MB 30.7 MB/s eta 0:00:01\n",
      "   ---------------------------------------- 12.6/12.6 MB 30.5 MB/s eta 0:00:00\n",
      "Installing collected packages: numpy\n",
      "Successfully installed numpy-2.2.3\n",
      "Collecting pandas\n",
      "  Downloading pandas-2.2.3-cp312-cp312-win_amd64.whl.metadata (19 kB)\n",
      "Requirement already satisfied: numpy>=1.26.0 in c:\\users\\yubny\\anaconda3\\envs\\pystudy_env\\lib\\site-packages (from pandas) (2.2.3)\n",
      "Requirement already satisfied: python-dateutil>=2.8.2 in c:\\users\\yubny\\anaconda3\\envs\\pystudy_env\\lib\\site-packages (from pandas) (2.9.0.post0)\n",
      "Collecting pytz>=2020.1 (from pandas)\n",
      "  Downloading pytz-2025.1-py2.py3-none-any.whl.metadata (22 kB)\n",
      "Collecting tzdata>=2022.7 (from pandas)\n",
      "  Downloading tzdata-2025.1-py2.py3-none-any.whl.metadata (1.4 kB)\n",
      "Requirement already satisfied: six>=1.5 in c:\\users\\yubny\\anaconda3\\envs\\pystudy_env\\lib\\site-packages (from python-dateutil>=2.8.2->pandas) (1.17.0)\n",
      "Downloading pandas-2.2.3-cp312-cp312-win_amd64.whl (11.5 MB)\n",
      "   ---------------------------------------- 0.0/11.5 MB ? eta -:--:--\n",
      "   ------------------------------- -------- 9.2/11.5 MB 51.8 MB/s eta 0:00:01\n",
      "   ---------------------------------------- 11.5/11.5 MB 45.0 MB/s eta 0:00:00\n",
      "Downloading pytz-2025.1-py2.py3-none-any.whl (507 kB)\n",
      "Downloading tzdata-2025.1-py2.py3-none-any.whl (346 kB)\n",
      "Installing collected packages: pytz, tzdata, pandas\n",
      "Successfully installed pandas-2.2.3 pytz-2025.1 tzdata-2025.1\n"
     ]
    }
   ],
   "source": [
    "!pip install numpy\n",
    "!pip install pandas"
   ]
  },
  {
   "cell_type": "code",
   "execution_count": null,
   "metadata": {},
   "outputs": [],
   "source": [
    "import numpy\n",
    "import pandas"
   ]
  },
  {
   "cell_type": "code",
   "execution_count": 1,
   "metadata": {},
   "outputs": [
    {
     "name": "stdout",
     "output_type": "stream",
     "text": [
      "Collecting matplotlib\n",
      "  Downloading matplotlib-3.10.0-cp312-cp312-win_amd64.whl.metadata (11 kB)\n",
      "Collecting contourpy>=1.0.1 (from matplotlib)\n",
      "  Downloading contourpy-1.3.1-cp312-cp312-win_amd64.whl.metadata (5.4 kB)\n",
      "Collecting cycler>=0.10 (from matplotlib)\n",
      "  Downloading cycler-0.12.1-py3-none-any.whl.metadata (3.8 kB)\n",
      "Collecting fonttools>=4.22.0 (from matplotlib)\n",
      "  Downloading fonttools-4.56.0-cp312-cp312-win_amd64.whl.metadata (103 kB)\n",
      "Collecting kiwisolver>=1.3.1 (from matplotlib)\n",
      "  Downloading kiwisolver-1.4.8-cp312-cp312-win_amd64.whl.metadata (6.3 kB)\n",
      "Requirement already satisfied: numpy>=1.23 in c:\\users\\yubny\\anaconda3\\envs\\pystudy_env\\lib\\site-packages (from matplotlib) (2.2.3)\n",
      "Requirement already satisfied: packaging>=20.0 in c:\\users\\yubny\\anaconda3\\envs\\pystudy_env\\lib\\site-packages (from matplotlib) (24.2)\n",
      "Collecting pillow>=8 (from matplotlib)\n",
      "  Downloading pillow-11.1.0-cp312-cp312-win_amd64.whl.metadata (9.3 kB)\n",
      "Collecting pyparsing>=2.3.1 (from matplotlib)\n",
      "  Downloading pyparsing-3.2.1-py3-none-any.whl.metadata (5.0 kB)\n",
      "Requirement already satisfied: python-dateutil>=2.7 in c:\\users\\yubny\\anaconda3\\envs\\pystudy_env\\lib\\site-packages (from matplotlib) (2.9.0.post0)\n",
      "Requirement already satisfied: six>=1.5 in c:\\users\\yubny\\anaconda3\\envs\\pystudy_env\\lib\\site-packages (from python-dateutil>=2.7->matplotlib) (1.17.0)\n",
      "Downloading matplotlib-3.10.0-cp312-cp312-win_amd64.whl (8.0 MB)\n",
      "   ---------------------------------------- 0.0/8.0 MB ? eta -:--:--\n",
      "   ---------------------------------------- 8.0/8.0 MB 45.2 MB/s eta 0:00:00\n",
      "Downloading contourpy-1.3.1-cp312-cp312-win_amd64.whl (220 kB)\n",
      "Downloading cycler-0.12.1-py3-none-any.whl (8.3 kB)\n",
      "Downloading fonttools-4.56.0-cp312-cp312-win_amd64.whl (2.2 MB)\n",
      "   ---------------------------------------- 0.0/2.2 MB ? eta -:--:--\n",
      "   ---------------------------------------- 2.2/2.2 MB 30.6 MB/s eta 0:00:00\n",
      "Downloading kiwisolver-1.4.8-cp312-cp312-win_amd64.whl (71 kB)\n",
      "Downloading pillow-11.1.0-cp312-cp312-win_amd64.whl (2.6 MB)\n",
      "   ---------------------------------------- 0.0/2.6 MB ? eta -:--:--\n",
      "   --- ------------------------------------ 0.3/2.6 MB ? eta -:--:--\n",
      "   ------------------------------- -------- 2.1/2.6 MB 9.8 MB/s eta 0:00:01\n",
      "   ---------------------------------------- 2.6/2.6 MB 6.9 MB/s eta 0:00:00\n",
      "Downloading pyparsing-3.2.1-py3-none-any.whl (107 kB)\n",
      "Installing collected packages: pyparsing, pillow, kiwisolver, fonttools, cycler, contourpy, matplotlib\n",
      "Successfully installed contourpy-1.3.1 cycler-0.12.1 fonttools-4.56.0 kiwisolver-1.4.8 matplotlib-3.10.0 pillow-11.1.0 pyparsing-3.2.1\n"
     ]
    }
   ],
   "source": [
    "!pip install matplotlib"
   ]
  },
  {
   "cell_type": "code",
   "execution_count": 2,
   "metadata": {},
   "outputs": [],
   "source": [
    "import matplotlib"
   ]
  },
  {
   "cell_type": "code",
   "execution_count": 3,
   "metadata": {},
   "outputs": [],
   "source": [
    "!pip freeze > requirements.txt"
   ]
  },
  {
   "cell_type": "code",
   "execution_count": null,
   "metadata": {},
   "outputs": [
    {
     "name": "stdout",
     "output_type": "stream",
     "text": [
      "Processing c:\\home\\conda\\feedstock_root\\build_artifacts\\asttokens_1733250440834\\work (from -r requirements.txt (line 1))\n"
     ]
    },
    {
     "name": "stderr",
     "output_type": "stream",
     "text": [
      "  ERROR: Cannot unpack file C:\\home\\conda\\feedstock_root\\build_artifacts\\asttokens_1733250440834\\work (downloaded from C:\\Users\\yubny\\AppData\\Local\\Temp\\pip-install-i2b42tmr\\asttokens_3fec5acd72bf49acaa7bde2a233c0e0c, content-type: None); cannot detect archive format\n",
      "ERROR: Cannot determine archive format of C:\\Users\\yubny\\AppData\\Local\\Temp\\pip-install-i2b42tmr\\asttokens_3fec5acd72bf49acaa7bde2a233c0e0c\n"
     ]
    }
   ],
   "source": [
    "!pip install -r requirements.txt"
   ]
  },
  {
   "cell_type": "code",
   "execution_count": 5,
   "metadata": {},
   "outputs": [],
   "source": [
    "import numpy\n",
    "import pandas"
   ]
  }
 ],
 "metadata": {
  "kernelspec": {
   "display_name": "pystudy_env",
   "language": "python",
   "name": "python3"
  },
  "language_info": {
   "codemirror_mode": {
    "name": "ipython",
    "version": 3
   },
   "file_extension": ".py",
   "mimetype": "text/x-python",
   "name": "python",
   "nbconvert_exporter": "python",
   "pygments_lexer": "ipython3",
   "version": "3.12.9"
  }
 },
 "nbformat": 4,
 "nbformat_minor": 2
}
