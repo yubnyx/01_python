{
 "cells": [
  {
   "cell_type": "markdown",
   "metadata": {},
   "source": [
    "### 파일 입출력"
   ]
  },
  {
   "cell_type": "code",
   "execution_count": 4,
   "metadata": {},
   "outputs": [],
   "source": [
    "f1 = open('text.txt', 'w')\n",
    "\n",
    "f1.write('오늘의 점심 메뉴: 포케 ')\n",
    "f1.write('[오늘의 점심 메뉴]\\n 포케') \n",
    "#\\ 일반 문자를 특수 용도로 사용 가능하게함escape 문자 \n",
    "# \\n-> 개행\n",
    "#\\t -> tab\n",
    "\n",
    "f1.close()"
   ]
  },
  {
   "cell_type": "code",
   "execution_count": 3,
   "metadata": {},
   "outputs": [
    {
     "name": "stdout",
     "output_type": "stream",
     "text": [
      "안녕하세요\n",
      "저는\n",
      "배고픕니다\n"
     ]
    }
   ],
   "source": [
    "print('안녕하세요\\n저는\\n배고픕니다')"
   ]
  },
  {
   "cell_type": "code",
   "execution_count": 13,
   "metadata": {},
   "outputs": [],
   "source": [
    "f2 = open('our_song.txt','w')\n",
    "\n",
    "our_song = ['magnetic\\n','iykyk\\n','lucky girl syndrom\\n']\n",
    "\n",
    "f2.writelines(our_song)\n",
    "\n",
    "f2.close()"
   ]
  },
  {
   "cell_type": "code",
   "execution_count": 11,
   "metadata": {},
   "outputs": [
    {
     "name": "stdout",
     "output_type": "stream",
     "text": [
      "f3_readlines ['magnetic\\n', 'iykyk\\n', 'lucky girl syndrom']\n"
     ]
    }
   ],
   "source": [
    "f3 = open('our_song.txt','r', encoding = ' utf-8')\n",
    "\n",
    "# f3_read = f3.read()\n",
    "# f3_readline = f3.readline()\n",
    "f3_readlines = f3.readlines()\n",
    "\n",
    "# print(\"f3_read\",f3_read,type(f3_read))\n",
    "# print(\"f3_readline\",f3_readline,type(f3_readline))\n",
    "print(\"f3_readlines\",f3_readlines)\n",
    "\n",
    "f3.close()"
   ]
  },
  {
   "cell_type": "code",
   "execution_count": null,
   "metadata": {},
   "outputs": [],
   "source": [
    "f4 = open('our_song.txt','a', encoding= 'utf-8')\n",
    "\n",
    "f4.write ('노래 끝!')\n",
    "\n",
    "f4.close()\n",
    " #append 모드는 계속 옆에 붙인다\n"
   ]
  },
  {
   "cell_type": "code",
   "execution_count": 17,
   "metadata": {},
   "outputs": [],
   "source": [
    "with open('new_test.txt',\"w\",encoding=\"utf-8\")as f:\n",
    "    f.write('오늘은 파이썬\\n')\n",
    "    f.write('내일은 db\\n')\n",
    "    f.write('그 다음 주 부터는 웹크롤링!')\n"
   ]
  },
  {
   "cell_type": "code",
   "execution_count": 2,
   "metadata": {},
   "outputs": [],
   "source": [
    "f5 =open('diary.txt','w',encoding='utf-8')\n",
    "\n",
    "diary = ['오늘은 파일 입출력을 배웠습니다.\\n','다양한 파일 확장자와 접근 모드를 사용할 수 있다는 점이 흥미로웠습니다.']\n",
    "\n",
    "f5.writelines(diary)\n",
    "\n",
    "f5.close()"
   ]
  },
  {
   "cell_type": "code",
   "execution_count": null,
   "metadata": {},
   "outputs": [],
   "source": []
  }
 ],
 "metadata": {
  "kernelspec": {
   "display_name": "pystudy_env",
   "language": "python",
   "name": "python3"
  },
  "language_info": {
   "codemirror_mode": {
    "name": "ipython",
    "version": 3
   },
   "file_extension": ".py",
   "mimetype": "text/x-python",
   "name": "python",
   "nbconvert_exporter": "python",
   "pygments_lexer": "ipython3",
   "version": "3.12.9"
  }
 },
 "nbformat": 4,
 "nbformat_minor": 2
}
